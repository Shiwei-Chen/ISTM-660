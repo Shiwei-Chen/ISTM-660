{
  "nbformat": 4,
  "nbformat_minor": 0,
  "metadata": {
    "colab": {
      "name": "Final Project",
      "provenance": [],
      "toc_visible": true,
      "include_colab_link": true
    },
    "kernelspec": {
      "name": "python3",
      "display_name": "Python 3"
    }
  },
  "cells": [
    {
      "cell_type": "markdown",
      "metadata": {
        "id": "view-in-github",
        "colab_type": "text"
      },
      "source": [
        "<a href=\"https://colab.research.google.com/github/Shiwei-Chen/ISTM-660/blob/master/Final_Project.ipynb\" target=\"_parent\"><img src=\"https://colab.research.google.com/assets/colab-badge.svg\" alt=\"Open In Colab\"/></a>"
      ]
    },
    {
      "cell_type": "markdown",
      "metadata": {
        "id": "N73_1Ottxs90",
        "colab_type": "text"
      },
      "source": [
        "# **Who Is the Carrier?**\n",
        "\n",
        "In basketball world, there is a controvertial topic: During 1999-2002, Los Angeles Lakers has won three consecutive NBA titles. At that times, there are two star players in LA lakers' roster: Kobe Bryant and Shaquille O'Neal. These three titles are important components for Kobe Bryant's total 5 NBA championships, and many people argue that it was Shaq carrying Kobe to get these titles. This project will do a binary logistic regression to see whether Shaq has carried Kobe to three- straight NBA titles, and also, during 1999-2002 seasons, Kobe and Shaq, which player has contributed more to the winning of the three titles. \n",
        "\n",
        "**Dataset source**: https://www.basketball-reference.com/"
      ]
    },
    {
      "cell_type": "code",
      "metadata": {
        "id": "g_Ua2NSnzmV3",
        "colab_type": "code",
        "colab": {}
      },
      "source": [
        "import pandas as pd\n",
        "import numpy as np\n",
        "from sklearn import preprocessing\n",
        "import matplotlib.pyplot as plt \n",
        "from sklearn.linear_model import LogisticRegression\n",
        "from sklearn.model_selection import train_test_split\n",
        "import seaborn as sns\n",
        "import statsmodels.api as sm\n",
        "import pylab as pl"
      ],
      "execution_count": 0,
      "outputs": []
    },
    {
      "cell_type": "code",
      "metadata": {
        "id": "YYBe2nTZ5jlL",
        "colab_type": "code",
        "colab": {}
      },
      "source": [
        "kobestats = 'https://raw.githubusercontent.com/Shiwei-Chen/ISTM-660/master/kobe%201999-2002.csv'\n",
        "shaqstats = 'https://raw.githubusercontent.com/Shiwei-Chen/ISTM-660/master/shaq%201999-2002.csv'"
      ],
      "execution_count": 0,
      "outputs": []
    },
    {
      "cell_type": "code",
      "metadata": {
        "id": "BFLszmn08ADi",
        "colab_type": "code",
        "outputId": "4e34a8bd-052d-4f16-b222-77dd1bcad3bb",
        "colab": {
          "base_uri": "https://localhost:8080/",
          "height": 241
        }
      },
      "source": [
        "kobe = pd.read_csv(kobestats)\n",
        "kobe.head()"
      ],
      "execution_count": 0,
      "outputs": [
        {
          "output_type": "execute_result",
          "data": {
            "text/html": [
              "<div>\n",
              "<style scoped>\n",
              "    .dataframe tbody tr th:only-of-type {\n",
              "        vertical-align: middle;\n",
              "    }\n",
              "\n",
              "    .dataframe tbody tr th {\n",
              "        vertical-align: top;\n",
              "    }\n",
              "\n",
              "    .dataframe thead th {\n",
              "        text-align: right;\n",
              "    }\n",
              "</style>\n",
              "<table border=\"1\" class=\"dataframe\">\n",
              "  <thead>\n",
              "    <tr style=\"text-align: right;\">\n",
              "      <th></th>\n",
              "      <th>Date</th>\n",
              "      <th>Tm</th>\n",
              "      <th>Unnamed: 2</th>\n",
              "      <th>Opp</th>\n",
              "      <th>Result2</th>\n",
              "      <th>Result</th>\n",
              "      <th>GS</th>\n",
              "      <th>MP2</th>\n",
              "      <th>MP</th>\n",
              "      <th>FG</th>\n",
              "      <th>FGA</th>\n",
              "      <th>FG%</th>\n",
              "      <th>3P</th>\n",
              "      <th>3PA</th>\n",
              "      <th>3P%</th>\n",
              "      <th>FT</th>\n",
              "      <th>FTA</th>\n",
              "      <th>FT%</th>\n",
              "      <th>ORB</th>\n",
              "      <th>DRB</th>\n",
              "      <th>TRB</th>\n",
              "      <th>AST</th>\n",
              "      <th>STL</th>\n",
              "      <th>BLK</th>\n",
              "      <th>TOV</th>\n",
              "      <th>PF</th>\n",
              "      <th>PTS</th>\n",
              "      <th>GmSc</th>\n",
              "      <th>plmi</th>\n",
              "    </tr>\n",
              "  </thead>\n",
              "  <tbody>\n",
              "    <tr>\n",
              "      <th>0</th>\n",
              "      <td>12/1/99</td>\n",
              "      <td>LAL</td>\n",
              "      <td>NaN</td>\n",
              "      <td>GSW</td>\n",
              "      <td>W</td>\n",
              "      <td>1</td>\n",
              "      <td>0</td>\n",
              "      <td>29:52:00</td>\n",
              "      <td>29</td>\n",
              "      <td>7</td>\n",
              "      <td>18</td>\n",
              "      <td>0.389</td>\n",
              "      <td>0</td>\n",
              "      <td>3</td>\n",
              "      <td>0.000</td>\n",
              "      <td>5</td>\n",
              "      <td>6</td>\n",
              "      <td>0.833</td>\n",
              "      <td>3</td>\n",
              "      <td>3</td>\n",
              "      <td>6</td>\n",
              "      <td>3</td>\n",
              "      <td>0</td>\n",
              "      <td>0</td>\n",
              "      <td>2</td>\n",
              "      <td>4</td>\n",
              "      <td>19</td>\n",
              "      <td>10.3</td>\n",
              "      <td>13</td>\n",
              "    </tr>\n",
              "    <tr>\n",
              "      <th>1</th>\n",
              "      <td>12/3/99</td>\n",
              "      <td>LAL</td>\n",
              "      <td>NaN</td>\n",
              "      <td>POR</td>\n",
              "      <td>W</td>\n",
              "      <td>1</td>\n",
              "      <td>0</td>\n",
              "      <td>34:09:00</td>\n",
              "      <td>34</td>\n",
              "      <td>6</td>\n",
              "      <td>15</td>\n",
              "      <td>0.400</td>\n",
              "      <td>0</td>\n",
              "      <td>1</td>\n",
              "      <td>0.000</td>\n",
              "      <td>11</td>\n",
              "      <td>13</td>\n",
              "      <td>0.846</td>\n",
              "      <td>2</td>\n",
              "      <td>6</td>\n",
              "      <td>8</td>\n",
              "      <td>0</td>\n",
              "      <td>2</td>\n",
              "      <td>1</td>\n",
              "      <td>0</td>\n",
              "      <td>4</td>\n",
              "      <td>23</td>\n",
              "      <td>18.4</td>\n",
              "      <td>19</td>\n",
              "    </tr>\n",
              "    <tr>\n",
              "      <th>2</th>\n",
              "      <td>12/5/99</td>\n",
              "      <td>LAL</td>\n",
              "      <td>NaN</td>\n",
              "      <td>ORL</td>\n",
              "      <td>W</td>\n",
              "      <td>1</td>\n",
              "      <td>0</td>\n",
              "      <td>25:25:00</td>\n",
              "      <td>25</td>\n",
              "      <td>6</td>\n",
              "      <td>12</td>\n",
              "      <td>0.500</td>\n",
              "      <td>2</td>\n",
              "      <td>3</td>\n",
              "      <td>0.667</td>\n",
              "      <td>1</td>\n",
              "      <td>2</td>\n",
              "      <td>0.500</td>\n",
              "      <td>0</td>\n",
              "      <td>3</td>\n",
              "      <td>3</td>\n",
              "      <td>3</td>\n",
              "      <td>1</td>\n",
              "      <td>1</td>\n",
              "      <td>4</td>\n",
              "      <td>2</td>\n",
              "      <td>15</td>\n",
              "      <td>8.5</td>\n",
              "      <td>14</td>\n",
              "    </tr>\n",
              "    <tr>\n",
              "      <th>3</th>\n",
              "      <td>12/7/99</td>\n",
              "      <td>LAL</td>\n",
              "      <td>NaN</td>\n",
              "      <td>WAS</td>\n",
              "      <td>W</td>\n",
              "      <td>1</td>\n",
              "      <td>0</td>\n",
              "      <td>30:37:00</td>\n",
              "      <td>30</td>\n",
              "      <td>5</td>\n",
              "      <td>13</td>\n",
              "      <td>0.385</td>\n",
              "      <td>0</td>\n",
              "      <td>1</td>\n",
              "      <td>0.000</td>\n",
              "      <td>11</td>\n",
              "      <td>14</td>\n",
              "      <td>0.786</td>\n",
              "      <td>0</td>\n",
              "      <td>1</td>\n",
              "      <td>1</td>\n",
              "      <td>2</td>\n",
              "      <td>2</td>\n",
              "      <td>0</td>\n",
              "      <td>3</td>\n",
              "      <td>4</td>\n",
              "      <td>21</td>\n",
              "      <td>11.8</td>\n",
              "      <td>9</td>\n",
              "    </tr>\n",
              "    <tr>\n",
              "      <th>4</th>\n",
              "      <td>12/8/99</td>\n",
              "      <td>LAL</td>\n",
              "      <td>@</td>\n",
              "      <td>SAC</td>\n",
              "      <td>L</td>\n",
              "      <td>0</td>\n",
              "      <td>1</td>\n",
              "      <td>41:45:00</td>\n",
              "      <td>41</td>\n",
              "      <td>11</td>\n",
              "      <td>19</td>\n",
              "      <td>0.579</td>\n",
              "      <td>1</td>\n",
              "      <td>2</td>\n",
              "      <td>0.500</td>\n",
              "      <td>4</td>\n",
              "      <td>5</td>\n",
              "      <td>0.800</td>\n",
              "      <td>0</td>\n",
              "      <td>6</td>\n",
              "      <td>6</td>\n",
              "      <td>5</td>\n",
              "      <td>1</td>\n",
              "      <td>0</td>\n",
              "      <td>6</td>\n",
              "      <td>1</td>\n",
              "      <td>27</td>\n",
              "      <td>17.6</td>\n",
              "      <td>-8</td>\n",
              "    </tr>\n",
              "  </tbody>\n",
              "</table>\n",
              "</div>"
            ],
            "text/plain": [
              "      Date   Tm Unnamed: 2  Opp Result2  Result  ...  BLK TOV  PF  PTS  GmSc  plmi\n",
              "0  12/1/99  LAL        NaN  GSW       W       1  ...    0   2   4   19  10.3    13\n",
              "1  12/3/99  LAL        NaN  POR       W       1  ...    1   0   4   23  18.4    19\n",
              "2  12/5/99  LAL        NaN  ORL       W       1  ...    1   4   2   15   8.5    14\n",
              "3  12/7/99  LAL        NaN  WAS       W       1  ...    0   3   4   21  11.8     9\n",
              "4  12/8/99  LAL          @  SAC       L       0  ...    0   6   1   27  17.6    -8\n",
              "\n",
              "[5 rows x 29 columns]"
            ]
          },
          "metadata": {
            "tags": []
          },
          "execution_count": 297
        }
      ]
    },
    {
      "cell_type": "code",
      "metadata": {
        "id": "QfR48Q828sKZ",
        "colab_type": "code",
        "outputId": "5d1b66b0-7e48-46d1-9e5e-6deef0a20f43",
        "colab": {
          "base_uri": "https://localhost:8080/",
          "height": 204
        }
      },
      "source": [
        "#clean data\n",
        "kobe.drop('Unnamed: 2', axis = 1, inplace = True)\n",
        "kobe.drop('Tm', axis = 1, inplace = True)\n",
        "kobe.drop('MP2', axis = 1, inplace = True)\n",
        "kobe.drop('Result2', axis = 1, inplace = True)\n",
        "kobe.drop('Date', axis = 1, inplace = True)\n",
        "kobe.drop('Opp', axis = 1, inplace = True)\n",
        "kobe.drop('MP', axis = 1, inplace = True)\n",
        "kobe.head()"
      ],
      "execution_count": 0,
      "outputs": [
        {
          "output_type": "execute_result",
          "data": {
            "text/html": [
              "<div>\n",
              "<style scoped>\n",
              "    .dataframe tbody tr th:only-of-type {\n",
              "        vertical-align: middle;\n",
              "    }\n",
              "\n",
              "    .dataframe tbody tr th {\n",
              "        vertical-align: top;\n",
              "    }\n",
              "\n",
              "    .dataframe thead th {\n",
              "        text-align: right;\n",
              "    }\n",
              "</style>\n",
              "<table border=\"1\" class=\"dataframe\">\n",
              "  <thead>\n",
              "    <tr style=\"text-align: right;\">\n",
              "      <th></th>\n",
              "      <th>Result</th>\n",
              "      <th>GS</th>\n",
              "      <th>FG</th>\n",
              "      <th>FGA</th>\n",
              "      <th>FG%</th>\n",
              "      <th>3P</th>\n",
              "      <th>3PA</th>\n",
              "      <th>3P%</th>\n",
              "      <th>FT</th>\n",
              "      <th>FTA</th>\n",
              "      <th>FT%</th>\n",
              "      <th>ORB</th>\n",
              "      <th>DRB</th>\n",
              "      <th>TRB</th>\n",
              "      <th>AST</th>\n",
              "      <th>STL</th>\n",
              "      <th>BLK</th>\n",
              "      <th>TOV</th>\n",
              "      <th>PF</th>\n",
              "      <th>PTS</th>\n",
              "      <th>GmSc</th>\n",
              "      <th>plmi</th>\n",
              "    </tr>\n",
              "  </thead>\n",
              "  <tbody>\n",
              "    <tr>\n",
              "      <th>0</th>\n",
              "      <td>1</td>\n",
              "      <td>0</td>\n",
              "      <td>7</td>\n",
              "      <td>18</td>\n",
              "      <td>0.389</td>\n",
              "      <td>0</td>\n",
              "      <td>3</td>\n",
              "      <td>0.000</td>\n",
              "      <td>5</td>\n",
              "      <td>6</td>\n",
              "      <td>0.833</td>\n",
              "      <td>3</td>\n",
              "      <td>3</td>\n",
              "      <td>6</td>\n",
              "      <td>3</td>\n",
              "      <td>0</td>\n",
              "      <td>0</td>\n",
              "      <td>2</td>\n",
              "      <td>4</td>\n",
              "      <td>19</td>\n",
              "      <td>10.3</td>\n",
              "      <td>13</td>\n",
              "    </tr>\n",
              "    <tr>\n",
              "      <th>1</th>\n",
              "      <td>1</td>\n",
              "      <td>0</td>\n",
              "      <td>6</td>\n",
              "      <td>15</td>\n",
              "      <td>0.400</td>\n",
              "      <td>0</td>\n",
              "      <td>1</td>\n",
              "      <td>0.000</td>\n",
              "      <td>11</td>\n",
              "      <td>13</td>\n",
              "      <td>0.846</td>\n",
              "      <td>2</td>\n",
              "      <td>6</td>\n",
              "      <td>8</td>\n",
              "      <td>0</td>\n",
              "      <td>2</td>\n",
              "      <td>1</td>\n",
              "      <td>0</td>\n",
              "      <td>4</td>\n",
              "      <td>23</td>\n",
              "      <td>18.4</td>\n",
              "      <td>19</td>\n",
              "    </tr>\n",
              "    <tr>\n",
              "      <th>2</th>\n",
              "      <td>1</td>\n",
              "      <td>0</td>\n",
              "      <td>6</td>\n",
              "      <td>12</td>\n",
              "      <td>0.500</td>\n",
              "      <td>2</td>\n",
              "      <td>3</td>\n",
              "      <td>0.667</td>\n",
              "      <td>1</td>\n",
              "      <td>2</td>\n",
              "      <td>0.500</td>\n",
              "      <td>0</td>\n",
              "      <td>3</td>\n",
              "      <td>3</td>\n",
              "      <td>3</td>\n",
              "      <td>1</td>\n",
              "      <td>1</td>\n",
              "      <td>4</td>\n",
              "      <td>2</td>\n",
              "      <td>15</td>\n",
              "      <td>8.5</td>\n",
              "      <td>14</td>\n",
              "    </tr>\n",
              "    <tr>\n",
              "      <th>3</th>\n",
              "      <td>1</td>\n",
              "      <td>0</td>\n",
              "      <td>5</td>\n",
              "      <td>13</td>\n",
              "      <td>0.385</td>\n",
              "      <td>0</td>\n",
              "      <td>1</td>\n",
              "      <td>0.000</td>\n",
              "      <td>11</td>\n",
              "      <td>14</td>\n",
              "      <td>0.786</td>\n",
              "      <td>0</td>\n",
              "      <td>1</td>\n",
              "      <td>1</td>\n",
              "      <td>2</td>\n",
              "      <td>2</td>\n",
              "      <td>0</td>\n",
              "      <td>3</td>\n",
              "      <td>4</td>\n",
              "      <td>21</td>\n",
              "      <td>11.8</td>\n",
              "      <td>9</td>\n",
              "    </tr>\n",
              "    <tr>\n",
              "      <th>4</th>\n",
              "      <td>0</td>\n",
              "      <td>1</td>\n",
              "      <td>11</td>\n",
              "      <td>19</td>\n",
              "      <td>0.579</td>\n",
              "      <td>1</td>\n",
              "      <td>2</td>\n",
              "      <td>0.500</td>\n",
              "      <td>4</td>\n",
              "      <td>5</td>\n",
              "      <td>0.800</td>\n",
              "      <td>0</td>\n",
              "      <td>6</td>\n",
              "      <td>6</td>\n",
              "      <td>5</td>\n",
              "      <td>1</td>\n",
              "      <td>0</td>\n",
              "      <td>6</td>\n",
              "      <td>1</td>\n",
              "      <td>27</td>\n",
              "      <td>17.6</td>\n",
              "      <td>-8</td>\n",
              "    </tr>\n",
              "  </tbody>\n",
              "</table>\n",
              "</div>"
            ],
            "text/plain": [
              "   Result  GS  FG  FGA    FG%  3P  3PA  ...  STL  BLK  TOV  PF  PTS  GmSc  plmi\n",
              "0       1   0   7   18  0.389   0    3  ...    0    0    2   4   19  10.3    13\n",
              "1       1   0   6   15  0.400   0    1  ...    2    1    0   4   23  18.4    19\n",
              "2       1   0   6   12  0.500   2    3  ...    1    1    4   2   15   8.5    14\n",
              "3       1   0   5   13  0.385   0    1  ...    2    0    3   4   21  11.8     9\n",
              "4       0   1  11   19  0.579   1    2  ...    1    0    6   1   27  17.6    -8\n",
              "\n",
              "[5 rows x 22 columns]"
            ]
          },
          "metadata": {
            "tags": []
          },
          "execution_count": 298
        }
      ]
    },
    {
      "cell_type": "code",
      "metadata": {
        "id": "Nh0cVuu0BUkS",
        "colab_type": "code",
        "outputId": "c02175c0-ddc0-4482-89f2-cec306ad3502",
        "colab": {
          "base_uri": "https://localhost:8080/",
          "height": 34
        }
      },
      "source": [
        "kobe.isnull().sum().any()\n",
        "sum(kobe.count()-len(kobe))"
      ],
      "execution_count": 0,
      "outputs": [
        {
          "output_type": "execute_result",
          "data": {
            "text/plain": [
              "0"
            ]
          },
          "metadata": {
            "tags": []
          },
          "execution_count": 299
        }
      ]
    },
    {
      "cell_type": "code",
      "metadata": {
        "id": "-d0ALXMI8WjQ",
        "colab_type": "code",
        "outputId": "44982e75-de4a-4cb5-9519-ca7db19df780",
        "colab": {
          "base_uri": "https://localhost:8080/",
          "height": 326
        }
      },
      "source": [
        "shaq = pd.read_csv(shaqstats)\n",
        "shaq.head()"
      ],
      "execution_count": 0,
      "outputs": [
        {
          "output_type": "execute_result",
          "data": {
            "text/html": [
              "<div>\n",
              "<style scoped>\n",
              "    .dataframe tbody tr th:only-of-type {\n",
              "        vertical-align: middle;\n",
              "    }\n",
              "\n",
              "    .dataframe tbody tr th {\n",
              "        vertical-align: top;\n",
              "    }\n",
              "\n",
              "    .dataframe thead th {\n",
              "        text-align: right;\n",
              "    }\n",
              "</style>\n",
              "<table border=\"1\" class=\"dataframe\">\n",
              "  <thead>\n",
              "    <tr style=\"text-align: right;\">\n",
              "      <th></th>\n",
              "      <th>Date</th>\n",
              "      <th>Age</th>\n",
              "      <th>Tm</th>\n",
              "      <th>Unnamed: 3</th>\n",
              "      <th>Opp</th>\n",
              "      <th>Result2</th>\n",
              "      <th>Result</th>\n",
              "      <th>GS</th>\n",
              "      <th>MP2</th>\n",
              "      <th>MP</th>\n",
              "      <th>FG</th>\n",
              "      <th>FGA</th>\n",
              "      <th>FG%</th>\n",
              "      <th>3P</th>\n",
              "      <th>3PA</th>\n",
              "      <th>3P%</th>\n",
              "      <th>FT</th>\n",
              "      <th>FTA</th>\n",
              "      <th>FT%</th>\n",
              "      <th>ORB</th>\n",
              "      <th>DRB</th>\n",
              "      <th>TRB</th>\n",
              "      <th>AST</th>\n",
              "      <th>STL</th>\n",
              "      <th>BLK</th>\n",
              "      <th>TOV</th>\n",
              "      <th>PF</th>\n",
              "      <th>PTS</th>\n",
              "      <th>GmSc</th>\n",
              "      <th>plmi</th>\n",
              "    </tr>\n",
              "  </thead>\n",
              "  <tbody>\n",
              "    <tr>\n",
              "      <th>0</th>\n",
              "      <td>11/2/99</td>\n",
              "      <td>27-241</td>\n",
              "      <td>LAL</td>\n",
              "      <td>@</td>\n",
              "      <td>UTA</td>\n",
              "      <td>W</td>\n",
              "      <td>1</td>\n",
              "      <td>1</td>\n",
              "      <td>34:26:00</td>\n",
              "      <td>34</td>\n",
              "      <td>9</td>\n",
              "      <td>20</td>\n",
              "      <td>0.450</td>\n",
              "      <td>0</td>\n",
              "      <td>0</td>\n",
              "      <td>0</td>\n",
              "      <td>5</td>\n",
              "      <td>11</td>\n",
              "      <td>0.455</td>\n",
              "      <td>5</td>\n",
              "      <td>8</td>\n",
              "      <td>13</td>\n",
              "      <td>1</td>\n",
              "      <td>1</td>\n",
              "      <td>2</td>\n",
              "      <td>2</td>\n",
              "      <td>4</td>\n",
              "      <td>23</td>\n",
              "      <td>15.6</td>\n",
              "      <td>16</td>\n",
              "    </tr>\n",
              "    <tr>\n",
              "      <th>1</th>\n",
              "      <td>11/3/99</td>\n",
              "      <td>27-242</td>\n",
              "      <td>LAL</td>\n",
              "      <td>NaN</td>\n",
              "      <td>VAN</td>\n",
              "      <td>W</td>\n",
              "      <td>1</td>\n",
              "      <td>1</td>\n",
              "      <td>33:55:00</td>\n",
              "      <td>33</td>\n",
              "      <td>13</td>\n",
              "      <td>22</td>\n",
              "      <td>0.591</td>\n",
              "      <td>0</td>\n",
              "      <td>0</td>\n",
              "      <td>0</td>\n",
              "      <td>2</td>\n",
              "      <td>6</td>\n",
              "      <td>0.333</td>\n",
              "      <td>4</td>\n",
              "      <td>6</td>\n",
              "      <td>10</td>\n",
              "      <td>4</td>\n",
              "      <td>0</td>\n",
              "      <td>3</td>\n",
              "      <td>1</td>\n",
              "      <td>3</td>\n",
              "      <td>28</td>\n",
              "      <td>23.5</td>\n",
              "      <td>17</td>\n",
              "    </tr>\n",
              "    <tr>\n",
              "      <th>2</th>\n",
              "      <td>11/6/99</td>\n",
              "      <td>27-245</td>\n",
              "      <td>LAL</td>\n",
              "      <td>@</td>\n",
              "      <td>POR</td>\n",
              "      <td>L</td>\n",
              "      <td>0</td>\n",
              "      <td>1</td>\n",
              "      <td>33:08:00</td>\n",
              "      <td>33</td>\n",
              "      <td>9</td>\n",
              "      <td>14</td>\n",
              "      <td>0.643</td>\n",
              "      <td>0</td>\n",
              "      <td>0</td>\n",
              "      <td>0</td>\n",
              "      <td>3</td>\n",
              "      <td>11</td>\n",
              "      <td>0.273</td>\n",
              "      <td>4</td>\n",
              "      <td>6</td>\n",
              "      <td>10</td>\n",
              "      <td>0</td>\n",
              "      <td>0</td>\n",
              "      <td>2</td>\n",
              "      <td>2</td>\n",
              "      <td>0</td>\n",
              "      <td>21</td>\n",
              "      <td>15.6</td>\n",
              "      <td>-5</td>\n",
              "    </tr>\n",
              "    <tr>\n",
              "      <th>3</th>\n",
              "      <td>11/7/99</td>\n",
              "      <td>27-246</td>\n",
              "      <td>LAL</td>\n",
              "      <td>NaN</td>\n",
              "      <td>DAL</td>\n",
              "      <td>W</td>\n",
              "      <td>1</td>\n",
              "      <td>1</td>\n",
              "      <td>37:04:00</td>\n",
              "      <td>37</td>\n",
              "      <td>10</td>\n",
              "      <td>14</td>\n",
              "      <td>0.714</td>\n",
              "      <td>0</td>\n",
              "      <td>0</td>\n",
              "      <td>0</td>\n",
              "      <td>10</td>\n",
              "      <td>23</td>\n",
              "      <td>0.435</td>\n",
              "      <td>5</td>\n",
              "      <td>15</td>\n",
              "      <td>20</td>\n",
              "      <td>1</td>\n",
              "      <td>1</td>\n",
              "      <td>1</td>\n",
              "      <td>2</td>\n",
              "      <td>5</td>\n",
              "      <td>30</td>\n",
              "      <td>25.4</td>\n",
              "      <td>17</td>\n",
              "    </tr>\n",
              "    <tr>\n",
              "      <th>4</th>\n",
              "      <td>11/9/99</td>\n",
              "      <td>27-248</td>\n",
              "      <td>LAL</td>\n",
              "      <td>@</td>\n",
              "      <td>DAL</td>\n",
              "      <td>W</td>\n",
              "      <td>1</td>\n",
              "      <td>1</td>\n",
              "      <td>38:09:00</td>\n",
              "      <td>38</td>\n",
              "      <td>12</td>\n",
              "      <td>16</td>\n",
              "      <td>0.750</td>\n",
              "      <td>0</td>\n",
              "      <td>0</td>\n",
              "      <td>0</td>\n",
              "      <td>3</td>\n",
              "      <td>14</td>\n",
              "      <td>0.214</td>\n",
              "      <td>4</td>\n",
              "      <td>6</td>\n",
              "      <td>10</td>\n",
              "      <td>2</td>\n",
              "      <td>0</td>\n",
              "      <td>3</td>\n",
              "      <td>7</td>\n",
              "      <td>5</td>\n",
              "      <td>27</td>\n",
              "      <td>15.3</td>\n",
              "      <td>19</td>\n",
              "    </tr>\n",
              "  </tbody>\n",
              "</table>\n",
              "</div>"
            ],
            "text/plain": [
              "      Date     Age   Tm Unnamed: 3  Opp Result2  ...  BLK  TOV PF  PTS  GmSc  plmi\n",
              "0  11/2/99  27-241  LAL          @  UTA       W  ...    2    2  4   23  15.6    16\n",
              "1  11/3/99  27-242  LAL        NaN  VAN       W  ...    3    1  3   28  23.5    17\n",
              "2  11/6/99  27-245  LAL          @  POR       L  ...    2    2  0   21  15.6    -5\n",
              "3  11/7/99  27-246  LAL        NaN  DAL       W  ...    1    2  5   30  25.4    17\n",
              "4  11/9/99  27-248  LAL          @  DAL       W  ...    3    7  5   27  15.3    19\n",
              "\n",
              "[5 rows x 30 columns]"
            ]
          },
          "metadata": {
            "tags": []
          },
          "execution_count": 300
        }
      ]
    },
    {
      "cell_type": "code",
      "metadata": {
        "id": "drGyWEpJ9aHO",
        "colab_type": "code",
        "outputId": "c6380d74-30c9-4215-c2cc-16e0497508d9",
        "colab": {
          "base_uri": "https://localhost:8080/",
          "height": 204
        }
      },
      "source": [
        "#Clean data\n",
        "shaq.drop('Unnamed: 3', axis = 1, inplace = True)\n",
        "shaq.drop('Tm', axis = 1, inplace = True)\n",
        "shaq.drop('Age', axis = 1, inplace = True)\n",
        "shaq.drop('MP2', axis = 1, inplace = True)\n",
        "shaq.drop('Result2', axis = 1, inplace = True)\n",
        "shaq.drop('Date', axis = 1, inplace = True)\n",
        "shaq.drop('Opp', axis = 1, inplace = True)\n",
        "shaq.drop('MP', axis = 1, inplace = True)\n",
        "shaq.head()"
      ],
      "execution_count": 0,
      "outputs": [
        {
          "output_type": "execute_result",
          "data": {
            "text/html": [
              "<div>\n",
              "<style scoped>\n",
              "    .dataframe tbody tr th:only-of-type {\n",
              "        vertical-align: middle;\n",
              "    }\n",
              "\n",
              "    .dataframe tbody tr th {\n",
              "        vertical-align: top;\n",
              "    }\n",
              "\n",
              "    .dataframe thead th {\n",
              "        text-align: right;\n",
              "    }\n",
              "</style>\n",
              "<table border=\"1\" class=\"dataframe\">\n",
              "  <thead>\n",
              "    <tr style=\"text-align: right;\">\n",
              "      <th></th>\n",
              "      <th>Result</th>\n",
              "      <th>GS</th>\n",
              "      <th>FG</th>\n",
              "      <th>FGA</th>\n",
              "      <th>FG%</th>\n",
              "      <th>3P</th>\n",
              "      <th>3PA</th>\n",
              "      <th>3P%</th>\n",
              "      <th>FT</th>\n",
              "      <th>FTA</th>\n",
              "      <th>FT%</th>\n",
              "      <th>ORB</th>\n",
              "      <th>DRB</th>\n",
              "      <th>TRB</th>\n",
              "      <th>AST</th>\n",
              "      <th>STL</th>\n",
              "      <th>BLK</th>\n",
              "      <th>TOV</th>\n",
              "      <th>PF</th>\n",
              "      <th>PTS</th>\n",
              "      <th>GmSc</th>\n",
              "      <th>plmi</th>\n",
              "    </tr>\n",
              "  </thead>\n",
              "  <tbody>\n",
              "    <tr>\n",
              "      <th>0</th>\n",
              "      <td>1</td>\n",
              "      <td>1</td>\n",
              "      <td>9</td>\n",
              "      <td>20</td>\n",
              "      <td>0.450</td>\n",
              "      <td>0</td>\n",
              "      <td>0</td>\n",
              "      <td>0</td>\n",
              "      <td>5</td>\n",
              "      <td>11</td>\n",
              "      <td>0.455</td>\n",
              "      <td>5</td>\n",
              "      <td>8</td>\n",
              "      <td>13</td>\n",
              "      <td>1</td>\n",
              "      <td>1</td>\n",
              "      <td>2</td>\n",
              "      <td>2</td>\n",
              "      <td>4</td>\n",
              "      <td>23</td>\n",
              "      <td>15.6</td>\n",
              "      <td>16</td>\n",
              "    </tr>\n",
              "    <tr>\n",
              "      <th>1</th>\n",
              "      <td>1</td>\n",
              "      <td>1</td>\n",
              "      <td>13</td>\n",
              "      <td>22</td>\n",
              "      <td>0.591</td>\n",
              "      <td>0</td>\n",
              "      <td>0</td>\n",
              "      <td>0</td>\n",
              "      <td>2</td>\n",
              "      <td>6</td>\n",
              "      <td>0.333</td>\n",
              "      <td>4</td>\n",
              "      <td>6</td>\n",
              "      <td>10</td>\n",
              "      <td>4</td>\n",
              "      <td>0</td>\n",
              "      <td>3</td>\n",
              "      <td>1</td>\n",
              "      <td>3</td>\n",
              "      <td>28</td>\n",
              "      <td>23.5</td>\n",
              "      <td>17</td>\n",
              "    </tr>\n",
              "    <tr>\n",
              "      <th>2</th>\n",
              "      <td>0</td>\n",
              "      <td>1</td>\n",
              "      <td>9</td>\n",
              "      <td>14</td>\n",
              "      <td>0.643</td>\n",
              "      <td>0</td>\n",
              "      <td>0</td>\n",
              "      <td>0</td>\n",
              "      <td>3</td>\n",
              "      <td>11</td>\n",
              "      <td>0.273</td>\n",
              "      <td>4</td>\n",
              "      <td>6</td>\n",
              "      <td>10</td>\n",
              "      <td>0</td>\n",
              "      <td>0</td>\n",
              "      <td>2</td>\n",
              "      <td>2</td>\n",
              "      <td>0</td>\n",
              "      <td>21</td>\n",
              "      <td>15.6</td>\n",
              "      <td>-5</td>\n",
              "    </tr>\n",
              "    <tr>\n",
              "      <th>3</th>\n",
              "      <td>1</td>\n",
              "      <td>1</td>\n",
              "      <td>10</td>\n",
              "      <td>14</td>\n",
              "      <td>0.714</td>\n",
              "      <td>0</td>\n",
              "      <td>0</td>\n",
              "      <td>0</td>\n",
              "      <td>10</td>\n",
              "      <td>23</td>\n",
              "      <td>0.435</td>\n",
              "      <td>5</td>\n",
              "      <td>15</td>\n",
              "      <td>20</td>\n",
              "      <td>1</td>\n",
              "      <td>1</td>\n",
              "      <td>1</td>\n",
              "      <td>2</td>\n",
              "      <td>5</td>\n",
              "      <td>30</td>\n",
              "      <td>25.4</td>\n",
              "      <td>17</td>\n",
              "    </tr>\n",
              "    <tr>\n",
              "      <th>4</th>\n",
              "      <td>1</td>\n",
              "      <td>1</td>\n",
              "      <td>12</td>\n",
              "      <td>16</td>\n",
              "      <td>0.750</td>\n",
              "      <td>0</td>\n",
              "      <td>0</td>\n",
              "      <td>0</td>\n",
              "      <td>3</td>\n",
              "      <td>14</td>\n",
              "      <td>0.214</td>\n",
              "      <td>4</td>\n",
              "      <td>6</td>\n",
              "      <td>10</td>\n",
              "      <td>2</td>\n",
              "      <td>0</td>\n",
              "      <td>3</td>\n",
              "      <td>7</td>\n",
              "      <td>5</td>\n",
              "      <td>27</td>\n",
              "      <td>15.3</td>\n",
              "      <td>19</td>\n",
              "    </tr>\n",
              "  </tbody>\n",
              "</table>\n",
              "</div>"
            ],
            "text/plain": [
              "   Result  GS  FG  FGA    FG%  3P  3PA  ...  STL  BLK  TOV  PF  PTS  GmSc  plmi\n",
              "0       1   1   9   20  0.450   0    0  ...    1    2    2   4   23  15.6    16\n",
              "1       1   1  13   22  0.591   0    0  ...    0    3    1   3   28  23.5    17\n",
              "2       0   1   9   14  0.643   0    0  ...    0    2    2   0   21  15.6    -5\n",
              "3       1   1  10   14  0.714   0    0  ...    1    1    2   5   30  25.4    17\n",
              "4       1   1  12   16  0.750   0    0  ...    0    3    7   5   27  15.3    19\n",
              "\n",
              "[5 rows x 22 columns]"
            ]
          },
          "metadata": {
            "tags": []
          },
          "execution_count": 301
        }
      ]
    },
    {
      "cell_type": "code",
      "metadata": {
        "id": "auM5LtdoBZYJ",
        "colab_type": "code",
        "outputId": "ef013c25-3633-4eea-f1dd-3718fa1242fd",
        "colab": {
          "base_uri": "https://localhost:8080/",
          "height": 34
        }
      },
      "source": [
        "shaq.isnull().sum().any()\n",
        "sum(shaq.count()-len(shaq))"
      ],
      "execution_count": 0,
      "outputs": [
        {
          "output_type": "execute_result",
          "data": {
            "text/plain": [
              "0"
            ]
          },
          "metadata": {
            "tags": []
          },
          "execution_count": 302
        }
      ]
    },
    {
      "cell_type": "markdown",
      "metadata": {
        "id": "1LAz8azd9xMi",
        "colab_type": "text"
      },
      "source": [
        "Now the data has been imported and cleaned. The rest of data are crucial stats for evaluating player's performance. \n",
        "\n",
        "- **Opp**: opponent\n",
        "- **Result**: Game result, dependent variable for this project. 1 for win, 0 for lose\n",
        "- **GS**: Start for the game? 1 = yes, 0 = no\n",
        "- **MP**: Minutes played\n",
        "- **FG**: Field goal\n",
        "- **FGA**: Field goal attempt\n",
        "- **FG%**: Field goal percentage\n",
        "- **3P**: Three-pointer made\n",
        "- **3PA**: Three-pointer attempt\n",
        "- **3P%**: Three-pointer field goal percentage\n",
        "- **FT**: Free throw\n",
        "- **FTA**: Free throw attempt\n",
        "- **FT%**: Free throw field goal percentage\n",
        "- **ORB**: Offensive rebound\n",
        "- **DRB**: Defensive Rebound\n",
        "- **TRB**: Total rebound\n",
        "- **AST**: Assists\n",
        "- **STL**: steal\n",
        "- **BLK**: Block\n",
        "- **TOV**: turnover\n",
        "- **PF**: Personal foul\n",
        "- **PTS**: Points\n",
        "- **Game score**: Points x 1.0) + (FGM x 0.4) + (FGA x -0.7) + ((FTA-FTM) x -0.4) + (OREB x 0.7) + (DREB x 0.3) + (STL x 1.0) + (AST x 0.7) + (BLK x 0.7) + (PF x -0.4) + (TO x -1.0)\n",
        "- **plmi**: Plus/Minus. Reflection on how the team did while that player is on the court. If a player has a +5 plmi, it means his team outscored the opponent by 5 points while he was on the court. \n"
      ]
    },
    {
      "cell_type": "markdown",
      "metadata": {
        "id": "PLiSzyX4Cgtj",
        "colab_type": "text"
      },
      "source": [
        "Now, use data visualization to compare this two players' some important average stats. "
      ]
    },
    {
      "cell_type": "code",
      "metadata": {
        "id": "hoYqxTMtCRqk",
        "colab_type": "code",
        "outputId": "e868eae1-d49e-4dad-98a4-eef300261925",
        "cellView": "form",
        "colab": {
          "base_uri": "https://localhost:8080/",
          "height": 68
        }
      },
      "source": [
        "#@title Kobe Average Stats\n",
        "kptsm = kobe['PTS'].mean()\n",
        "ktrbm = kobe['TRB'].mean()\n",
        "kastm = kobe['AST'].mean()\n",
        "kblkm = kobe['BLK'].mean()\n",
        "kgmscm = kobe['GmSc'].mean()\n",
        "kpmm = kobe['plmi'].mean()\n",
        "kfgm = kobe['FG%'].mean()\n",
        "k3pm = kobe['3P%'].mean()\n",
        "kftm = kobe['FT%'].mean()\n",
        "print('Kobe Stats: \\nPTS: ' + str(kptsm) + ' TRB: '+ str(ktrbm) + ' AST: '+ str(kastm) + ' BLK: ' + str(kblkm) + ' GmSc: '+ str(kgmscm) + ' Plus/Minus: '+ str(kpmm) +'\\nFG%: '+ str(kfgm) +' 3P%: ' + str(k3pm) + ' FT%: ' +str(kftm))"
      ],
      "execution_count": 0,
      "outputs": [
        {
          "output_type": "stream",
          "text": [
            "Kobe Stats: \n",
            "PTS: 25.40221402214022 TRB: 5.833948339483395 AST: 5.092250922509225 BLK: 0.7416974169741697 GmSc: 18.29114391143913 Plus/Minus: 6.158671586715867\n",
            "FG%: 0.4633948339483397 3P%: 0.24830627306273056 FT%: 0.8091217712177127\n"
          ],
          "name": "stdout"
        }
      ]
    },
    {
      "cell_type": "code",
      "metadata": {
        "id": "u6CM3q0_HeHV",
        "colab_type": "code",
        "outputId": "bb2c02bb-d881-427d-c627-4ce31e80117e",
        "cellView": "form",
        "colab": {
          "base_uri": "https://localhost:8080/",
          "height": 68
        }
      },
      "source": [
        "#@title Shaq Average Stats\n",
        "sptsm = shaq['PTS'].mean()\n",
        "strbm = shaq['TRB'].mean()\n",
        "sastm = shaq['AST'].mean()\n",
        "sblkm = shaq['BLK'].mean()\n",
        "sgmscm = shaq['GmSc'].mean()\n",
        "spmm = shaq['plmi'].mean()\n",
        "sfgm = shaq['FG%'].mean()\n",
        "s3pm = shaq['3P%'].mean()\n",
        "sftm = shaq['FT%'].mean()\n",
        "print('Shaq Stats: \\nPTS: ' + str(sptsm) + ' TRB: '+ str(strbm) + ' AST: '+ str(sastm) + ' BLK: ' + str(sblkm) + ' GmSc: '+ str(sgmscm) + ' Plus/Minus: '+ str(spmm) + '\\nFG%: '+ str(sfgm) +' 3P%: ' + str(s3pm) + ' FT%: ' +str(sftm))"
      ],
      "execution_count": 0,
      "outputs": [
        {
          "output_type": "stream",
          "text": [
            "Shaq Stats: \n",
            "PTS: 28.8705035971223 TRB: 12.856115107913668 AST: 3.4244604316546763 BLK: 2.593525179856115 GmSc: 23.41438848920864 Plus/Minus: 7.758992805755396\n",
            "FG%: 0.5710971223021579 3P%: 0.0 FT%: 0.5259964028776978\n"
          ],
          "name": "stdout"
        }
      ]
    },
    {
      "cell_type": "code",
      "metadata": {
        "id": "8pGUhLpGIgkv",
        "colab_type": "code",
        "outputId": "c1aa4bfd-d365-4b55-efda-69025ac9a9be",
        "cellView": "form",
        "colab": {
          "base_uri": "https://localhost:8080/",
          "height": 293
        }
      },
      "source": [
        "#@title Data Visualization for Performance\n",
        "n_groups = 6\n",
        "means_kobe = (kptsm, ktrbm, kastm, kblkm, kgmscm, kpmm)\n",
        "means_shaq = (sptsm, strbm, sastm, sblkm, sgmscm, spmm)\n",
        "\n",
        "fig, ax = plt.subplots()\n",
        "index = np.arange(n_groups)\n",
        "bar_width = 0.35\n",
        "opacity = 0.8\n",
        "\n",
        "stats1 = plt.bar(index, means_kobe, bar_width,\n",
        "alpha=opacity,\n",
        "color='gold',\n",
        "label='Kobe Bryant')\n",
        "\n",
        "stats2 = plt.bar(index + bar_width, means_shaq, bar_width,\n",
        "alpha=opacity,\n",
        "color='darkviolet',\n",
        "label=\"Shaquille O'Neal\")\n",
        "\n",
        "plt.xlabel('Stats Variables')\n",
        "plt.ylabel('Stats')\n",
        "plt.title('Who Is the Carrier?')\n",
        "plt.xticks(index + bar_width, ('PTS', 'TRB', 'AST', 'BLK','GmSc', 'P/M'))\n",
        "plt.legend()\n",
        "\n",
        "plt.tight_layout()\n",
        "plt.show()"
      ],
      "execution_count": 0,
      "outputs": [
        {
          "output_type": "display_data",
          "data": {
            "image/png": "[encoded data removed]",
            "text/plain": [
              "<Figure size 432x288 with 1 Axes>"
            ]
          },
          "metadata": {
            "tags": []
          }
        }
      ]
    },
    {
      "cell_type": "code",
      "metadata": {
        "id": "c8SR1BUUEkOl",
        "colab_type": "code",
        "cellView": "form",
        "outputId": "bdecbde7-2d51-43df-a80d-7233118f0539",
        "colab": {
          "base_uri": "https://localhost:8080/",
          "height": 293
        }
      },
      "source": [
        "#@title Data Visualization for Efficiency\n",
        "n_groups1 = 3\n",
        "means_kobe1 = (kfgm, k3pm, kftm)\n",
        "means_shaq1 = (sfgm, s3pm, sftm)\n",
        "\n",
        "fig, ax = plt.subplots()\n",
        "index1 = np.arange(n_groups1)\n",
        "bar_width1 = 0.35\n",
        "opacity1 = 0.8\n",
        "\n",
        "stats3 = plt.bar(index1, means_kobe1, bar_width1,\n",
        "alpha=opacity,\n",
        "color='gold',\n",
        "label='Kobe Bryant')\n",
        "\n",
        "stats4 = plt.bar(index1 + bar_width1, means_shaq1, bar_width1,\n",
        "alpha=opacity,\n",
        "color='darkviolet',\n",
        "label=\"Shaquille O'Neal\")\n",
        "\n",
        "plt.xlabel('Stats Variables')\n",
        "plt.ylabel('Stats')\n",
        "plt.title('Who Is the Carrier?')\n",
        "plt.xticks(index1 + bar_width1, ('FG%', '3P%', 'FT%'))\n",
        "plt.legend()\n",
        "\n",
        "plt.tight_layout()\n",
        "plt.show()"
      ],
      "execution_count": 0,
      "outputs": [
        {
          "output_type": "display_data",
          "data": {
            "image/png": "[encoded data removed]",
            "text/plain": [
              "<Figure size 432x288 with 1 Axes>"
            ]
          },
          "metadata": {
            "tags": []
          }
        }
      ]
    },
    {
      "cell_type": "markdown",
      "metadata": {
        "id": "i0wKeO0eLFIh",
        "colab_type": "text"
      },
      "source": [
        "It looks like Shaq was topping Kobe through these 1999-2002. It is no wonder because Shaq was at his best age, 27-29, and Kobe just started his career at the age of 21-23. Further provements will be needed. "
      ]
    },
    {
      "cell_type": "markdown",
      "metadata": {
        "id": "TTKBB7GsCy8E",
        "colab_type": "text"
      },
      "source": [
        "# **Data exploration**\n",
        "\n",
        "It is necessary to look at depentdent variable 'result', and to see what is the win percentage for LA Lakers in the three consecutive championship period. "
      ]
    },
    {
      "cell_type": "code",
      "metadata": {
        "id": "25iMfPEAMJwv",
        "colab_type": "code",
        "outputId": "f7b08ff5-8dc0-4467-fce3-6d8c3bf5e82f",
        "colab": {
          "base_uri": "https://localhost:8080/",
          "height": 68
        }
      },
      "source": [
        "kobe['Result'].value_counts()"
      ],
      "execution_count": 0,
      "outputs": [
        {
          "output_type": "execute_result",
          "data": {
            "text/plain": [
              "1    201\n",
              "0     70\n",
              "Name: Result, dtype: int64"
            ]
          },
          "metadata": {
            "tags": []
          },
          "execution_count": 307
        }
      ]
    },
    {
      "cell_type": "code",
      "metadata": {
        "id": "hmyEGiL2UV2O",
        "colab_type": "code",
        "outputId": "3163d423-4199-47f3-9118-970b8d7e769e",
        "colab": {
          "base_uri": "https://localhost:8080/",
          "height": 51
        }
      },
      "source": [
        "count_kobe_win = len(kobe[kobe['Result']== 1])\n",
        "count_kobe_lose =len(kobe[kobe['Result']== 0])\n",
        "pct_kobe_win = count_kobe_win/(count_kobe_win + count_kobe_lose)\n",
        "print(\"Games with Kobe win percentage is\", pct_kobe_win*100)\n",
        "pct_kobe_lose = count_kobe_lose/(count_kobe_win+count_kobe_lose)\n",
        "print(\"Games with Kobe lose percentage is\", pct_kobe_lose*100)"
      ],
      "execution_count": 0,
      "outputs": [
        {
          "output_type": "stream",
          "text": [
            "Games with Kobe win percentage is 74.16974169741697\n",
            "Games with Kobe lose percentage is 25.830258302583026\n"
          ],
          "name": "stdout"
        }
      ]
    },
    {
      "cell_type": "code",
      "metadata": {
        "id": "FqS9_gwLUEEh",
        "colab_type": "code",
        "outputId": "6164573d-e21e-4451-dcd2-1512773f04dc",
        "colab": {
          "base_uri": "https://localhost:8080/",
          "height": 68
        }
      },
      "source": [
        "shaq['Result'].value_counts()"
      ],
      "execution_count": 0,
      "outputs": [
        {
          "output_type": "execute_result",
          "data": {
            "text/plain": [
              "1    213\n",
              "0     65\n",
              "Name: Result, dtype: int64"
            ]
          },
          "metadata": {
            "tags": []
          },
          "execution_count": 309
        }
      ]
    },
    {
      "cell_type": "code",
      "metadata": {
        "id": "cLwS0z1taqrj",
        "colab_type": "code",
        "outputId": "8554a1f2-360e-4c91-bfcf-65a4ce770250",
        "colab": {
          "base_uri": "https://localhost:8080/",
          "height": 51
        }
      },
      "source": [
        "count_shaq_win = len(shaq[shaq['Result']== 1])\n",
        "count_shaq_lose =len(shaq[shaq['Result']== 0])\n",
        "pct_shaq_win = count_shaq_win/(count_shaq_win + count_shaq_lose)\n",
        "print(\"Games with Shaq win percentage is\", pct_shaq_win*100)\n",
        "pct_shaq_lose = count_shaq_lose/(count_shaq_win+count_shaq_lose)\n",
        "print(\"Games with Shaq lose percentage is\", pct_shaq_lose*100)"
      ],
      "execution_count": 0,
      "outputs": [
        {
          "output_type": "stream",
          "text": [
            "Games with Shaq win percentage is 76.61870503597122\n",
            "Games with Shaq lose percentage is 23.381294964028775\n"
          ],
          "name": "stdout"
        }
      ]
    },
    {
      "cell_type": "markdown",
      "metadata": {
        "id": "qj4iFCfoc7s5",
        "colab_type": "text"
      },
      "source": [
        "Using .groupby method, we can compare two players' stats depend on the game result. "
      ]
    },
    {
      "cell_type": "code",
      "metadata": {
        "id": "qaIc4Bcrb9EX",
        "colab_type": "code",
        "outputId": "93eb8b74-bfe8-46d4-cd68-cf403a2bac89",
        "colab": {
          "base_uri": "https://localhost:8080/",
          "height": 162
        }
      },
      "source": [
        "kobe.groupby('Result').mean()"
      ],
      "execution_count": 0,
      "outputs": [
        {
          "output_type": "execute_result",
          "data": {
            "text/html": [
              "<div>\n",
              "<style scoped>\n",
              "    .dataframe tbody tr th:only-of-type {\n",
              "        vertical-align: middle;\n",
              "    }\n",
              "\n",
              "    .dataframe tbody tr th {\n",
              "        vertical-align: top;\n",
              "    }\n",
              "\n",
              "    .dataframe thead th {\n",
              "        text-align: right;\n",
              "    }\n",
              "</style>\n",
              "<table border=\"1\" class=\"dataframe\">\n",
              "  <thead>\n",
              "    <tr style=\"text-align: right;\">\n",
              "      <th></th>\n",
              "      <th>GS</th>\n",
              "      <th>FG</th>\n",
              "      <th>FGA</th>\n",
              "      <th>FG%</th>\n",
              "      <th>3P</th>\n",
              "      <th>3PA</th>\n",
              "      <th>3P%</th>\n",
              "      <th>FT</th>\n",
              "      <th>FTA</th>\n",
              "      <th>FT%</th>\n",
              "      <th>ORB</th>\n",
              "      <th>DRB</th>\n",
              "      <th>TRB</th>\n",
              "      <th>AST</th>\n",
              "      <th>STL</th>\n",
              "      <th>BLK</th>\n",
              "      <th>TOV</th>\n",
              "      <th>PF</th>\n",
              "      <th>PTS</th>\n",
              "      <th>GmSc</th>\n",
              "      <th>plmi</th>\n",
              "    </tr>\n",
              "    <tr>\n",
              "      <th>Result</th>\n",
              "      <th></th>\n",
              "      <th></th>\n",
              "      <th></th>\n",
              "      <th></th>\n",
              "      <th></th>\n",
              "      <th></th>\n",
              "      <th></th>\n",
              "      <th></th>\n",
              "      <th></th>\n",
              "      <th></th>\n",
              "      <th></th>\n",
              "      <th></th>\n",
              "      <th></th>\n",
              "      <th></th>\n",
              "      <th></th>\n",
              "      <th></th>\n",
              "      <th></th>\n",
              "      <th></th>\n",
              "      <th></th>\n",
              "      <th></th>\n",
              "      <th></th>\n",
              "    </tr>\n",
              "  </thead>\n",
              "  <tbody>\n",
              "    <tr>\n",
              "      <th>0</th>\n",
              "      <td>1.0000</td>\n",
              "      <td>9.128571</td>\n",
              "      <td>21.942857</td>\n",
              "      <td>0.405657</td>\n",
              "      <td>0.700000</td>\n",
              "      <td>2.928571</td>\n",
              "      <td>0.184386</td>\n",
              "      <td>5.671429</td>\n",
              "      <td>7.000000</td>\n",
              "      <td>0.778571</td>\n",
              "      <td>1.571429</td>\n",
              "      <td>3.871429</td>\n",
              "      <td>5.442857</td>\n",
              "      <td>4.571429</td>\n",
              "      <td>1.428571</td>\n",
              "      <td>0.585714</td>\n",
              "      <td>3.414286</td>\n",
              "      <td>3.657143</td>\n",
              "      <td>24.628571</td>\n",
              "      <td>14.811429</td>\n",
              "      <td>-8.200000</td>\n",
              "    </tr>\n",
              "    <tr>\n",
              "      <th>1</th>\n",
              "      <td>0.9801</td>\n",
              "      <td>9.422886</td>\n",
              "      <td>19.587065</td>\n",
              "      <td>0.483502</td>\n",
              "      <td>0.726368</td>\n",
              "      <td>2.124378</td>\n",
              "      <td>0.270567</td>\n",
              "      <td>6.099502</td>\n",
              "      <td>7.368159</td>\n",
              "      <td>0.819761</td>\n",
              "      <td>1.477612</td>\n",
              "      <td>4.492537</td>\n",
              "      <td>5.970149</td>\n",
              "      <td>5.273632</td>\n",
              "      <td>1.601990</td>\n",
              "      <td>0.796020</td>\n",
              "      <td>2.716418</td>\n",
              "      <td>3.089552</td>\n",
              "      <td>25.671642</td>\n",
              "      <td>19.502985</td>\n",
              "      <td>11.159204</td>\n",
              "    </tr>\n",
              "  </tbody>\n",
              "</table>\n",
              "</div>"
            ],
            "text/plain": [
              "            GS        FG        FGA  ...        PTS       GmSc       plmi\n",
              "Result                               ...                                 \n",
              "0       1.0000  9.128571  21.942857  ...  24.628571  14.811429  -8.200000\n",
              "1       0.9801  9.422886  19.587065  ...  25.671642  19.502985  11.159204\n",
              "\n",
              "[2 rows x 21 columns]"
            ]
          },
          "metadata": {
            "tags": []
          },
          "execution_count": 311
        }
      ]
    },
    {
      "cell_type": "code",
      "metadata": {
        "id": "fJAEChN6cbCL",
        "colab_type": "code",
        "outputId": "dd59db74-ad8b-4844-b027-46d8b979df43",
        "colab": {
          "base_uri": "https://localhost:8080/",
          "height": 162
        }
      },
      "source": [
        "shaq.groupby('Result').mean()"
      ],
      "execution_count": 0,
      "outputs": [
        {
          "output_type": "execute_result",
          "data": {
            "text/html": [
              "<div>\n",
              "<style scoped>\n",
              "    .dataframe tbody tr th:only-of-type {\n",
              "        vertical-align: middle;\n",
              "    }\n",
              "\n",
              "    .dataframe tbody tr th {\n",
              "        vertical-align: top;\n",
              "    }\n",
              "\n",
              "    .dataframe thead th {\n",
              "        text-align: right;\n",
              "    }\n",
              "</style>\n",
              "<table border=\"1\" class=\"dataframe\">\n",
              "  <thead>\n",
              "    <tr style=\"text-align: right;\">\n",
              "      <th></th>\n",
              "      <th>GS</th>\n",
              "      <th>FG</th>\n",
              "      <th>FGA</th>\n",
              "      <th>FG%</th>\n",
              "      <th>3P</th>\n",
              "      <th>3PA</th>\n",
              "      <th>3P%</th>\n",
              "      <th>FT</th>\n",
              "      <th>FTA</th>\n",
              "      <th>FT%</th>\n",
              "      <th>ORB</th>\n",
              "      <th>DRB</th>\n",
              "      <th>TRB</th>\n",
              "      <th>AST</th>\n",
              "      <th>STL</th>\n",
              "      <th>BLK</th>\n",
              "      <th>TOV</th>\n",
              "      <th>PF</th>\n",
              "      <th>PTS</th>\n",
              "      <th>GmSc</th>\n",
              "      <th>plmi</th>\n",
              "    </tr>\n",
              "    <tr>\n",
              "      <th>Result</th>\n",
              "      <th></th>\n",
              "      <th></th>\n",
              "      <th></th>\n",
              "      <th></th>\n",
              "      <th></th>\n",
              "      <th></th>\n",
              "      <th></th>\n",
              "      <th></th>\n",
              "      <th></th>\n",
              "      <th></th>\n",
              "      <th></th>\n",
              "      <th></th>\n",
              "      <th></th>\n",
              "      <th></th>\n",
              "      <th></th>\n",
              "      <th></th>\n",
              "      <th></th>\n",
              "      <th></th>\n",
              "      <th></th>\n",
              "      <th></th>\n",
              "      <th></th>\n",
              "    </tr>\n",
              "  </thead>\n",
              "  <tbody>\n",
              "    <tr>\n",
              "      <th>0</th>\n",
              "      <td>1.000000</td>\n",
              "      <td>11.200000</td>\n",
              "      <td>20.415385</td>\n",
              "      <td>0.547508</td>\n",
              "      <td>0.0</td>\n",
              "      <td>0.015385</td>\n",
              "      <td>0.0</td>\n",
              "      <td>5.846154</td>\n",
              "      <td>12.076923</td>\n",
              "      <td>0.469692</td>\n",
              "      <td>4.553846</td>\n",
              "      <td>7.584615</td>\n",
              "      <td>12.138462</td>\n",
              "      <td>3.030769</td>\n",
              "      <td>0.461538</td>\n",
              "      <td>2.092308</td>\n",
              "      <td>3.061538</td>\n",
              "      <td>3.446154</td>\n",
              "      <td>28.246154</td>\n",
              "      <td>21.013846</td>\n",
              "      <td>-6.415385</td>\n",
              "    </tr>\n",
              "    <tr>\n",
              "      <th>1</th>\n",
              "      <td>0.995305</td>\n",
              "      <td>11.422535</td>\n",
              "      <td>19.821596</td>\n",
              "      <td>0.578296</td>\n",
              "      <td>0.0</td>\n",
              "      <td>0.014085</td>\n",
              "      <td>0.0</td>\n",
              "      <td>6.215962</td>\n",
              "      <td>11.417840</td>\n",
              "      <td>0.543178</td>\n",
              "      <td>3.957746</td>\n",
              "      <td>9.117371</td>\n",
              "      <td>13.075117</td>\n",
              "      <td>3.544601</td>\n",
              "      <td>0.582160</td>\n",
              "      <td>2.746479</td>\n",
              "      <td>2.760563</td>\n",
              "      <td>3.145540</td>\n",
              "      <td>29.061033</td>\n",
              "      <td>24.146948</td>\n",
              "      <td>12.084507</td>\n",
              "    </tr>\n",
              "  </tbody>\n",
              "</table>\n",
              "</div>"
            ],
            "text/plain": [
              "              GS         FG        FGA  ...        PTS       GmSc       plmi\n",
              "Result                                  ...                                 \n",
              "0       1.000000  11.200000  20.415385  ...  28.246154  21.013846  -6.415385\n",
              "1       0.995305  11.422535  19.821596  ...  29.061033  24.146948  12.084507\n",
              "\n",
              "[2 rows x 21 columns]"
            ]
          },
          "metadata": {
            "tags": []
          },
          "execution_count": 312
        }
      ]
    },
    {
      "cell_type": "markdown",
      "metadata": {
        "id": "K8HcAMqUB_12",
        "colab_type": "text"
      },
      "source": [
        "Results shows that both players performed better when the team won the games. "
      ]
    },
    {
      "cell_type": "markdown",
      "metadata": {
        "id": "5g9LuaY7SGTT",
        "colab_type": "text"
      },
      "source": [
        "# **Performing Regression**\n",
        "\n",
        "Since the variable are all numbers, there is no neeed to create dummy variables. "
      ]
    },
    {
      "cell_type": "markdown",
      "metadata": {
        "id": "Y8l4UC7xMDuD",
        "colab_type": "text"
      },
      "source": [
        "# **Kobe Bryant**"
      ]
    },
    {
      "cell_type": "code",
      "metadata": {
        "id": "ohXN0SecR9nJ",
        "colab_type": "code",
        "cellView": "both",
        "outputId": "261038b9-afcc-4709-b6a5-7015f5a7bdb2",
        "colab": {
          "base_uri": "https://localhost:8080/",
          "height": 904
        }
      },
      "source": [
        "#@title Step 1\n",
        "#Kobe Bryant\n",
        "import statsmodels.api as sm\n",
        "kobe_train_cols = kobe.columns[1:]\n",
        "kobelogit = sm.Logit(kobe['Result'], kobe[kobe_train_cols])\n",
        "koberesult = kobelogit.fit()\n",
        "print(koberesult.summary())"
      ],
      "execution_count": 0,
      "outputs": [
        {
          "output_type": "stream",
          "text": [
            "Warning: Maximum number of iterations has been exceeded.\n",
            "         Current function value: 0.137655\n",
            "         Iterations: 35\n",
            "                           Logit Regression Results                           \n",
            "==============================================================================\n",
            "Dep. Variable:                 Result   No. Observations:                  271\n",
            "Model:                          Logit   Df Residuals:                      253\n",
            "Method:                           MLE   Df Model:                           17\n",
            "Date:                Thu, 05 Dec 2019   Pseudo R-squ.:                  0.7590\n",
            "Time:                        04:40:21   Log-Likelihood:                -37.304\n",
            "converged:                      False   LL-Null:                       -154.82\n",
            "Covariance Type:            nonrobust   LLR p-value:                 2.358e-40\n",
            "==============================================================================\n",
            "                 coef    std err          z      P>|z|      [0.025      0.975]\n",
            "------------------------------------------------------------------------------\n",
            "GS            -4.5374      3.659     -1.240      0.215     -11.710       2.635\n",
            "FG            -0.3616   2.29e+06  -1.58e-07      1.000    -4.5e+06     4.5e+06\n",
            "FGA            0.0905    4.1e+04   2.21e-06      1.000   -8.04e+04    8.04e+04\n",
            "FG%           17.7457      9.788      1.813      0.070      -1.439      36.931\n",
            "3P             0.7008   9.75e+05   7.18e-07      1.000   -1.91e+06    1.91e+06\n",
            "3PA           -0.3230      0.281     -1.149      0.251      -0.874       0.228\n",
            "3P%           -0.3859      1.781     -0.217      0.828      -3.877       3.105\n",
            "FT            -0.0873    1.3e+06  -6.73e-08      1.000   -2.54e+06    2.54e+06\n",
            "FTA            0.1501   2.34e+04    6.4e-06      1.000    -4.6e+04     4.6e+04\n",
            "FT%            0.3834      2.328      0.165      0.869      -4.180       4.947\n",
            "ORB            0.1360   1.29e+06   1.05e-07      1.000   -2.54e+06    2.54e+06\n",
            "DRB            0.0227        nan        nan        nan         nan         nan\n",
            "TRB            0.1586        nan        nan        nan         nan         nan\n",
            "AST           -0.0557    4.1e+04  -1.36e-06      1.000   -8.04e+04    8.04e+04\n",
            "STL           -0.0997   5.86e+04   -1.7e-06      1.000   -1.15e+05    1.15e+05\n",
            "BLK            0.4431    4.1e+04   1.08e-05      1.000   -8.04e+04    8.04e+04\n",
            "TOV           -0.1551   5.86e+04  -2.65e-06      1.000   -1.15e+05    1.15e+05\n",
            "PF            -0.0893   2.34e+04  -3.81e-06      1.000    -4.6e+04     4.6e+04\n",
            "PTS           -0.1095        nan        nan        nan         nan         nan\n",
            "GmSc           0.0518   5.86e+04   8.84e-07      1.000   -1.15e+05    1.15e+05\n",
            "plmi           0.4156      0.067      6.209      0.000       0.284       0.547\n",
            "==============================================================================\n",
            "\n",
            "Possibly complete quasi-separation: A fraction 0.19 of observations can be\n",
            "perfectly predicted. This might indicate that there is complete\n",
            "quasi-separation. In this case some parameters will not be identified.\n"
          ],
          "name": "stdout"
        },
        {
          "output_type": "stream",
          "text": [
            "/usr/local/lib/python3.6/dist-packages/statsmodels/base/model.py:512: ConvergenceWarning: Maximum Likelihood optimization failed to converge. Check mle_retvals\n",
            "  \"Check mle_retvals\", ConvergenceWarning)\n",
            "/usr/local/lib/python3.6/dist-packages/statsmodels/base/model.py:1286: RuntimeWarning: invalid value encountered in sqrt\n",
            "  bse_ = np.sqrt(np.diag(self.cov_params()))\n",
            "/usr/local/lib/python3.6/dist-packages/scipy/stats/_distn_infrastructure.py:901: RuntimeWarning: invalid value encountered in greater\n",
            "  return (a < x) & (x < b)\n",
            "/usr/local/lib/python3.6/dist-packages/scipy/stats/_distn_infrastructure.py:901: RuntimeWarning: invalid value encountered in less\n",
            "  return (a < x) & (x < b)\n",
            "/usr/local/lib/python3.6/dist-packages/scipy/stats/_distn_infrastructure.py:1892: RuntimeWarning: invalid value encountered in less_equal\n",
            "  cond2 = cond0 & (x <= _a)\n"
          ],
          "name": "stderr"
        }
      ]
    },
    {
      "cell_type": "markdown",
      "metadata": {
        "id": "iU9HM-OPkCBn",
        "colab_type": "text"
      },
      "source": [
        "It seems like plus/minus is a cpmplete quasi-separation. This is not weird because plus/minus reflect the relationship between player's performance and game result so directly. Thus, drop 'plmi' and see what will happen. Also, some stats which are not that important are dropped to reduce the computer run time. "
      ]
    },
    {
      "cell_type": "code",
      "metadata": {
        "id": "KkmIO8gJmGeN",
        "colab_type": "code",
        "cellView": "form",
        "outputId": "bb221807-64ea-4fed-e77f-6a6ad27ba322",
        "colab": {
          "base_uri": "https://localhost:8080/",
          "height": 204
        }
      },
      "source": [
        "#@title Clean Data\n",
        "kobe2 = kobe\n",
        "kobe2.drop('plmi', axis = 1, inplace = True)\n",
        "kobe2.drop('GS', axis = 1, inplace = True)\n",
        "kobe2.drop('FG', axis = 1, inplace = True)\n",
        "kobe2.drop('FGA', axis = 1, inplace = True)\n",
        "kobe2.drop('3PA', axis = 1, inplace = True)\n",
        "kobe2.drop('3P%', axis = 1, inplace = True)\n",
        "kobe2.drop('FT', axis = 1, inplace = True)\n",
        "kobe2.drop('FTA', axis = 1, inplace = True)\n",
        "kobe2.drop('3P', axis = 1, inplace = True)\n",
        "kobe2.drop('ORB', axis = 1, inplace = True)\n",
        "kobe2.drop('DRB', axis = 1, inplace = True)\n",
        "kobe2.drop('STL', axis = 1, inplace = True)\n",
        "kobe2.drop('BLK', axis = 1, inplace = True)\n",
        "kobe2.head()"
      ],
      "execution_count": 0,
      "outputs": [
        {
          "output_type": "execute_result",
          "data": {
            "text/html": [
              "<div>\n",
              "<style scoped>\n",
              "    .dataframe tbody tr th:only-of-type {\n",
              "        vertical-align: middle;\n",
              "    }\n",
              "\n",
              "    .dataframe tbody tr th {\n",
              "        vertical-align: top;\n",
              "    }\n",
              "\n",
              "    .dataframe thead th {\n",
              "        text-align: right;\n",
              "    }\n",
              "</style>\n",
              "<table border=\"1\" class=\"dataframe\">\n",
              "  <thead>\n",
              "    <tr style=\"text-align: right;\">\n",
              "      <th></th>\n",
              "      <th>Result</th>\n",
              "      <th>FG%</th>\n",
              "      <th>FT%</th>\n",
              "      <th>TRB</th>\n",
              "      <th>AST</th>\n",
              "      <th>TOV</th>\n",
              "      <th>PF</th>\n",
              "      <th>PTS</th>\n",
              "      <th>GmSc</th>\n",
              "    </tr>\n",
              "  </thead>\n",
              "  <tbody>\n",
              "    <tr>\n",
              "      <th>0</th>\n",
              "      <td>1</td>\n",
              "      <td>0.389</td>\n",
              "      <td>0.833</td>\n",
              "      <td>6</td>\n",
              "      <td>3</td>\n",
              "      <td>2</td>\n",
              "      <td>4</td>\n",
              "      <td>19</td>\n",
              "      <td>10.3</td>\n",
              "    </tr>\n",
              "    <tr>\n",
              "      <th>1</th>\n",
              "      <td>1</td>\n",
              "      <td>0.400</td>\n",
              "      <td>0.846</td>\n",
              "      <td>8</td>\n",
              "      <td>0</td>\n",
              "      <td>0</td>\n",
              "      <td>4</td>\n",
              "      <td>23</td>\n",
              "      <td>18.4</td>\n",
              "    </tr>\n",
              "    <tr>\n",
              "      <th>2</th>\n",
              "      <td>1</td>\n",
              "      <td>0.500</td>\n",
              "      <td>0.500</td>\n",
              "      <td>3</td>\n",
              "      <td>3</td>\n",
              "      <td>4</td>\n",
              "      <td>2</td>\n",
              "      <td>15</td>\n",
              "      <td>8.5</td>\n",
              "    </tr>\n",
              "    <tr>\n",
              "      <th>3</th>\n",
              "      <td>1</td>\n",
              "      <td>0.385</td>\n",
              "      <td>0.786</td>\n",
              "      <td>1</td>\n",
              "      <td>2</td>\n",
              "      <td>3</td>\n",
              "      <td>4</td>\n",
              "      <td>21</td>\n",
              "      <td>11.8</td>\n",
              "    </tr>\n",
              "    <tr>\n",
              "      <th>4</th>\n",
              "      <td>0</td>\n",
              "      <td>0.579</td>\n",
              "      <td>0.800</td>\n",
              "      <td>6</td>\n",
              "      <td>5</td>\n",
              "      <td>6</td>\n",
              "      <td>1</td>\n",
              "      <td>27</td>\n",
              "      <td>17.6</td>\n",
              "    </tr>\n",
              "  </tbody>\n",
              "</table>\n",
              "</div>"
            ],
            "text/plain": [
              "   Result    FG%    FT%  TRB  AST  TOV  PF  PTS  GmSc\n",
              "0       1  0.389  0.833    6    3    2   4   19  10.3\n",
              "1       1  0.400  0.846    8    0    0   4   23  18.4\n",
              "2       1  0.500  0.500    3    3    4   2   15   8.5\n",
              "3       1  0.385  0.786    1    2    3   4   21  11.8\n",
              "4       0  0.579  0.800    6    5    6   1   27  17.6"
            ]
          },
          "metadata": {
            "tags": []
          },
          "execution_count": 314
        }
      ]
    },
    {
      "cell_type": "code",
      "metadata": {
        "id": "cO9jWGPImpgt",
        "colab_type": "code",
        "cellView": "form",
        "outputId": "69d5f701-5ca1-4428-84f6-79788b1bc12d",
        "colab": {
          "base_uri": "https://localhost:8080/",
          "height": 425
        }
      },
      "source": [
        "#@title Step 2\n",
        "kobe2_train_cols = kobe2.columns[1:]\n",
        "kobelogit2 = sm.Logit(kobe2['Result'], kobe2[kobe2_train_cols])\n",
        "koberesult2 = kobelogit2.fit()\n",
        "print(koberesult2.summary())"
      ],
      "execution_count": 0,
      "outputs": [
        {
          "output_type": "stream",
          "text": [
            "Optimization terminated successfully.\n",
            "         Current function value: 0.445733\n",
            "         Iterations 7\n",
            "                           Logit Regression Results                           \n",
            "==============================================================================\n",
            "Dep. Variable:                 Result   No. Observations:                  271\n",
            "Model:                          Logit   Df Residuals:                      263\n",
            "Method:                           MLE   Df Model:                            7\n",
            "Date:                Thu, 05 Dec 2019   Pseudo R-squ.:                  0.2198\n",
            "Time:                        04:40:21   Log-Likelihood:                -120.79\n",
            "converged:                       True   LL-Null:                       -154.82\n",
            "Covariance Type:            nonrobust   LLR p-value:                 3.669e-12\n",
            "==============================================================================\n",
            "                 coef    std err          z      P>|z|      [0.025      0.975]\n",
            "------------------------------------------------------------------------------\n",
            "FG%            5.8982      1.816      3.248      0.001       2.339       9.458\n",
            "FT%            0.8246      0.719      1.147      0.251      -0.585       2.234\n",
            "TRB            0.0463      0.057      0.815      0.415      -0.065       0.158\n",
            "AST           -0.0670      0.071     -0.947      0.344      -0.206       0.072\n",
            "TOV           -0.1151      0.102     -1.131      0.258      -0.315       0.084\n",
            "PF            -0.1326      0.120     -1.101      0.271      -0.369       0.103\n",
            "PTS           -0.2136      0.050     -4.297      0.000      -0.311      -0.116\n",
            "GmSc           0.2351      0.061      3.847      0.000       0.115       0.355\n",
            "==============================================================================\n"
          ],
          "name": "stdout"
        }
      ]
    },
    {
      "cell_type": "markdown",
      "metadata": {
        "id": "sZsqZr5FKD-J",
        "colab_type": "text"
      },
      "source": [
        "After the performing logistic regression for Kobe Bryant's stats, variables 'FG%', 'PTS', and 'GmSc' can be kept because their P value < 0.05, which tells these variables are significantly associate with dependent variables. "
      ]
    },
    {
      "cell_type": "code",
      "metadata": {
        "id": "N4WOZOEYK4rC",
        "colab_type": "code",
        "cellView": "form",
        "outputId": "0e10e769-b78c-4059-865a-652d1d1fd69a",
        "colab": {
          "base_uri": "https://localhost:8080/",
          "height": 204
        }
      },
      "source": [
        "#@title Clean Data\n",
        "kobe3 = kobe2\n",
        "kobe3.drop('FT%', axis = 1, inplace = True)\n",
        "kobe3.drop('TRB', axis = 1, inplace = True)\n",
        "kobe3.drop('AST', axis = 1, inplace = True)\n",
        "kobe3.drop('TOV', axis = 1, inplace = True)\n",
        "kobe3.drop('PF', axis = 1, inplace = True)\n",
        "kobe3.head()"
      ],
      "execution_count": 0,
      "outputs": [
        {
          "output_type": "execute_result",
          "data": {
            "text/html": [
              "<div>\n",
              "<style scoped>\n",
              "    .dataframe tbody tr th:only-of-type {\n",
              "        vertical-align: middle;\n",
              "    }\n",
              "\n",
              "    .dataframe tbody tr th {\n",
              "        vertical-align: top;\n",
              "    }\n",
              "\n",
              "    .dataframe thead th {\n",
              "        text-align: right;\n",
              "    }\n",
              "</style>\n",
              "<table border=\"1\" class=\"dataframe\">\n",
              "  <thead>\n",
              "    <tr style=\"text-align: right;\">\n",
              "      <th></th>\n",
              "      <th>Result</th>\n",
              "      <th>FG%</th>\n",
              "      <th>PTS</th>\n",
              "      <th>GmSc</th>\n",
              "    </tr>\n",
              "  </thead>\n",
              "  <tbody>\n",
              "    <tr>\n",
              "      <th>0</th>\n",
              "      <td>1</td>\n",
              "      <td>0.389</td>\n",
              "      <td>19</td>\n",
              "      <td>10.3</td>\n",
              "    </tr>\n",
              "    <tr>\n",
              "      <th>1</th>\n",
              "      <td>1</td>\n",
              "      <td>0.400</td>\n",
              "      <td>23</td>\n",
              "      <td>18.4</td>\n",
              "    </tr>\n",
              "    <tr>\n",
              "      <th>2</th>\n",
              "      <td>1</td>\n",
              "      <td>0.500</td>\n",
              "      <td>15</td>\n",
              "      <td>8.5</td>\n",
              "    </tr>\n",
              "    <tr>\n",
              "      <th>3</th>\n",
              "      <td>1</td>\n",
              "      <td>0.385</td>\n",
              "      <td>21</td>\n",
              "      <td>11.8</td>\n",
              "    </tr>\n",
              "    <tr>\n",
              "      <th>4</th>\n",
              "      <td>0</td>\n",
              "      <td>0.579</td>\n",
              "      <td>27</td>\n",
              "      <td>17.6</td>\n",
              "    </tr>\n",
              "  </tbody>\n",
              "</table>\n",
              "</div>"
            ],
            "text/plain": [
              "   Result    FG%  PTS  GmSc\n",
              "0       1  0.389   19  10.3\n",
              "1       1  0.400   23  18.4\n",
              "2       1  0.500   15   8.5\n",
              "3       1  0.385   21  11.8\n",
              "4       0  0.579   27  17.6"
            ]
          },
          "metadata": {
            "tags": []
          },
          "execution_count": 316
        }
      ]
    },
    {
      "cell_type": "code",
      "metadata": {
        "id": "NDW4iex_LZTZ",
        "colab_type": "code",
        "cellView": "form",
        "outputId": "2c7a69e4-6400-4524-c749-570c8d5eb062",
        "colab": {
          "base_uri": "https://localhost:8080/",
          "height": 340
        }
      },
      "source": [
        "#@title Step 3\n",
        "kobe3_train_cols = kobe3.columns[1:]\n",
        "kobelogit3 = sm.Logit(kobe3['Result'], kobe3[kobe3_train_cols])\n",
        "koberesult3 = kobelogit3.fit()\n",
        "print(koberesult3.summary())"
      ],
      "execution_count": 0,
      "outputs": [
        {
          "output_type": "stream",
          "text": [
            "Optimization terminated successfully.\n",
            "         Current function value: 0.454102\n",
            "         Iterations 6\n",
            "                           Logit Regression Results                           \n",
            "==============================================================================\n",
            "Dep. Variable:                 Result   No. Observations:                  271\n",
            "Model:                          Logit   Df Residuals:                      268\n",
            "Method:                           MLE   Df Model:                            2\n",
            "Date:                Thu, 05 Dec 2019   Pseudo R-squ.:                  0.2051\n",
            "Time:                        04:40:21   Log-Likelihood:                -123.06\n",
            "converged:                       True   LL-Null:                       -154.82\n",
            "Covariance Type:            nonrobust   LLR p-value:                 1.620e-14\n",
            "==============================================================================\n",
            "                 coef    std err          z      P>|z|      [0.025      0.975]\n",
            "------------------------------------------------------------------------------\n",
            "FG%            4.8540      1.428      3.399      0.001       2.055       7.653\n",
            "PTS           -0.2238      0.039     -5.797      0.000      -0.299      -0.148\n",
            "GmSc           0.2645      0.047      5.607      0.000       0.172       0.357\n",
            "==============================================================================\n"
          ],
          "name": "stdout"
        }
      ]
    },
    {
      "cell_type": "markdown",
      "metadata": {
        "id": "O0IopO1aMgDi",
        "colab_type": "text"
      },
      "source": [
        "# **Shaqille O'Neal**"
      ]
    },
    {
      "cell_type": "code",
      "metadata": {
        "id": "SNbwb9KZMj7U",
        "colab_type": "code",
        "cellView": "form",
        "outputId": "a9a8bdee-881a-4980-f531-14964f13f99f",
        "colab": {
          "base_uri": "https://localhost:8080/",
          "height": 921
        }
      },
      "source": [
        "#@title Step 1(re-run the data input and data clean step if error)\n",
        "import statsmodels.api as sm\n",
        "shaq1 = shaq\n",
        "shaq1.drop('3P%', axis = 1, inplace = True)\n",
        "shaq1.drop('3P', axis = 1, inplace = True)\n",
        "shaq_train_cols = shaq1.columns[1:]\n",
        "print(shaq_train_cols)\n",
        "shaq = shaq1\n",
        "shaqlogit = sm.Logit(shaq['Result'], shaq[shaq_train_cols])\n",
        "shaqresult = shaqlogit.fit()\n",
        "print(shaqresult.summary())"
      ],
      "execution_count": 0,
      "outputs": [
        {
          "output_type": "stream",
          "text": [
            "Index(['GS', 'FG', 'FGA', 'FG%', '3PA', 'FT', 'FTA', 'FT%', 'ORB', 'DRB',\n",
            "       'TRB', 'AST', 'STL', 'BLK', 'TOV', 'PF', 'PTS', 'GmSc', 'plmi'],\n",
            "      dtype='object')\n",
            "Warning: Maximum number of iterations has been exceeded.\n",
            "         Current function value: 0.201049\n",
            "         Iterations: 35\n",
            "                           Logit Regression Results                           \n",
            "==============================================================================\n",
            "Dep. Variable:                 Result   No. Observations:                  278\n",
            "Model:                          Logit   Df Residuals:                      262\n",
            "Method:                           MLE   Df Model:                           15\n",
            "Date:                Thu, 05 Dec 2019   Pseudo R-squ.:                  0.6303\n",
            "Time:                        04:40:21   Log-Likelihood:                -55.892\n",
            "converged:                      False   LL-Null:                       -151.19\n",
            "Covariance Type:            nonrobust   LLR p-value:                 1.720e-32\n",
            "==============================================================================\n",
            "                 coef    std err          z      P>|z|      [0.025      0.975]\n",
            "------------------------------------------------------------------------------\n",
            "GS             4.5819      2.453      1.868      0.062      -0.227       9.391\n",
            "FG             0.3410        nan        nan        nan         nan         nan\n",
            "FGA           -0.3785        nan        nan        nan         nan         nan\n",
            "FG%          -12.5834      2.882     -4.366      0.000     -18.232      -6.935\n",
            "3PA            1.3178      7.424      0.177      0.859     -13.234      15.869\n",
            "FT            -0.5865        nan        nan        nan         nan         nan\n",
            "FTA            0.1669        nan        nan        nan         nan         nan\n",
            "FT%            6.7404      2.715      2.482      0.013       1.419      12.062\n",
            "ORB           -0.1622        nan        nan        nan         nan         nan\n",
            "DRB            0.1667   7.57e+11    2.2e-13      1.000   -1.48e+12    1.48e+12\n",
            "TRB            0.0045   9.42e+11   4.82e-15      1.000   -1.85e+12    1.85e+12\n",
            "AST            0.0940        nan        nan        nan         nan         nan\n",
            "STL           -0.1310        nan        nan        nan         nan         nan\n",
            "BLK           -0.0393        nan        nan        nan         nan         nan\n",
            "TOV            0.0039        nan        nan        nan         nan         nan\n",
            "PF            -0.0565        nan        nan        nan         nan         nan\n",
            "PTS            0.0956        nan        nan        nan         nan         nan\n",
            "GmSc           0.0580        nan        nan        nan         nan         nan\n",
            "plmi           0.3866      0.062      6.262      0.000       0.266       0.508\n",
            "==============================================================================\n",
            "\n",
            "Possibly complete quasi-separation: A fraction 0.12 of observations can be\n",
            "perfectly predicted. This might indicate that there is complete\n",
            "quasi-separation. In this case some parameters will not be identified.\n"
          ],
          "name": "stdout"
        },
        {
          "output_type": "stream",
          "text": [
            "/usr/local/lib/python3.6/dist-packages/statsmodels/base/model.py:512: ConvergenceWarning: Maximum Likelihood optimization failed to converge. Check mle_retvals\n",
            "  \"Check mle_retvals\", ConvergenceWarning)\n",
            "/usr/local/lib/python3.6/dist-packages/statsmodels/base/model.py:1286: RuntimeWarning: invalid value encountered in sqrt\n",
            "  bse_ = np.sqrt(np.diag(self.cov_params()))\n",
            "/usr/local/lib/python3.6/dist-packages/scipy/stats/_distn_infrastructure.py:901: RuntimeWarning: invalid value encountered in greater\n",
            "  return (a < x) & (x < b)\n",
            "/usr/local/lib/python3.6/dist-packages/scipy/stats/_distn_infrastructure.py:901: RuntimeWarning: invalid value encountered in less\n",
            "  return (a < x) & (x < b)\n",
            "/usr/local/lib/python3.6/dist-packages/scipy/stats/_distn_infrastructure.py:1892: RuntimeWarning: invalid value encountered in less_equal\n",
            "  cond2 = cond0 & (x <= _a)\n"
          ],
          "name": "stderr"
        }
      ]
    },
    {
      "cell_type": "markdown",
      "metadata": {
        "id": "JVOIhWwLRq7K",
        "colab_type": "text"
      },
      "source": [
        "Here the problem is same as the step 1 problem above. Plus/minus is a quasi-separation. Therefore, what should be done is to drop some useless stats for Shaq. "
      ]
    },
    {
      "cell_type": "code",
      "metadata": {
        "id": "-OBegPgLSOV5",
        "colab_type": "code",
        "cellView": "form",
        "outputId": "fab4a8d5-c95f-44eb-bf84-bc5861c69a70",
        "colab": {
          "base_uri": "https://localhost:8080/",
          "height": 204
        }
      },
      "source": [
        "#@title Clean Data\n",
        "shaq2 = shaq\n",
        "shaq2.drop('plmi', axis = 1, inplace = True)\n",
        "shaq2.drop('GS', axis = 1, inplace = True)\n",
        "shaq2.drop('FG', axis = 1, inplace = True)\n",
        "shaq2.drop('FGA', axis = 1, inplace = True)\n",
        "shaq2.drop('3PA', axis = 1, inplace = True)\n",
        "shaq2.drop('FT', axis = 1, inplace = True)\n",
        "shaq2.drop('FTA', axis = 1, inplace = True)\n",
        "shaq2.drop('STL', axis = 1, inplace = True)\n",
        "shaq2.drop('PF', axis = 1, inplace = True)\n",
        "shaq2.drop('ORB', axis = 1, inplace = True)\n",
        "shaq2.drop('DRB', axis = 1, inplace = True)\n",
        "shaq2.head()"
      ],
      "execution_count": 0,
      "outputs": [
        {
          "output_type": "execute_result",
          "data": {
            "text/html": [
              "<div>\n",
              "<style scoped>\n",
              "    .dataframe tbody tr th:only-of-type {\n",
              "        vertical-align: middle;\n",
              "    }\n",
              "\n",
              "    .dataframe tbody tr th {\n",
              "        vertical-align: top;\n",
              "    }\n",
              "\n",
              "    .dataframe thead th {\n",
              "        text-align: right;\n",
              "    }\n",
              "</style>\n",
              "<table border=\"1\" class=\"dataframe\">\n",
              "  <thead>\n",
              "    <tr style=\"text-align: right;\">\n",
              "      <th></th>\n",
              "      <th>Result</th>\n",
              "      <th>FG%</th>\n",
              "      <th>FT%</th>\n",
              "      <th>TRB</th>\n",
              "      <th>AST</th>\n",
              "      <th>BLK</th>\n",
              "      <th>TOV</th>\n",
              "      <th>PTS</th>\n",
              "      <th>GmSc</th>\n",
              "    </tr>\n",
              "  </thead>\n",
              "  <tbody>\n",
              "    <tr>\n",
              "      <th>0</th>\n",
              "      <td>1</td>\n",
              "      <td>0.450</td>\n",
              "      <td>0.455</td>\n",
              "      <td>13</td>\n",
              "      <td>1</td>\n",
              "      <td>2</td>\n",
              "      <td>2</td>\n",
              "      <td>23</td>\n",
              "      <td>15.6</td>\n",
              "    </tr>\n",
              "    <tr>\n",
              "      <th>1</th>\n",
              "      <td>1</td>\n",
              "      <td>0.591</td>\n",
              "      <td>0.333</td>\n",
              "      <td>10</td>\n",
              "      <td>4</td>\n",
              "      <td>3</td>\n",
              "      <td>1</td>\n",
              "      <td>28</td>\n",
              "      <td>23.5</td>\n",
              "    </tr>\n",
              "    <tr>\n",
              "      <th>2</th>\n",
              "      <td>0</td>\n",
              "      <td>0.643</td>\n",
              "      <td>0.273</td>\n",
              "      <td>10</td>\n",
              "      <td>0</td>\n",
              "      <td>2</td>\n",
              "      <td>2</td>\n",
              "      <td>21</td>\n",
              "      <td>15.6</td>\n",
              "    </tr>\n",
              "    <tr>\n",
              "      <th>3</th>\n",
              "      <td>1</td>\n",
              "      <td>0.714</td>\n",
              "      <td>0.435</td>\n",
              "      <td>20</td>\n",
              "      <td>1</td>\n",
              "      <td>1</td>\n",
              "      <td>2</td>\n",
              "      <td>30</td>\n",
              "      <td>25.4</td>\n",
              "    </tr>\n",
              "    <tr>\n",
              "      <th>4</th>\n",
              "      <td>1</td>\n",
              "      <td>0.750</td>\n",
              "      <td>0.214</td>\n",
              "      <td>10</td>\n",
              "      <td>2</td>\n",
              "      <td>3</td>\n",
              "      <td>7</td>\n",
              "      <td>27</td>\n",
              "      <td>15.3</td>\n",
              "    </tr>\n",
              "  </tbody>\n",
              "</table>\n",
              "</div>"
            ],
            "text/plain": [
              "   Result    FG%    FT%  TRB  AST  BLK  TOV  PTS  GmSc\n",
              "0       1  0.450  0.455   13    1    2    2   23  15.6\n",
              "1       1  0.591  0.333   10    4    3    1   28  23.5\n",
              "2       0  0.643  0.273   10    0    2    2   21  15.6\n",
              "3       1  0.714  0.435   20    1    1    2   30  25.4\n",
              "4       1  0.750  0.214   10    2    3    7   27  15.3"
            ]
          },
          "metadata": {
            "tags": []
          },
          "execution_count": 319
        }
      ]
    },
    {
      "cell_type": "code",
      "metadata": {
        "id": "GZeBBWUoTUvr",
        "colab_type": "code",
        "cellView": "form",
        "outputId": "55551eb7-59f2-4d02-c930-9be8e11be0fc",
        "colab": {
          "base_uri": "https://localhost:8080/",
          "height": 425
        }
      },
      "source": [
        "#@title Step 2\n",
        "shaq2_train_cols = shaq2.columns[1:]\n",
        "shaqlogit2 = sm.Logit(shaq2['Result'], shaq2[shaq2_train_cols])\n",
        "shaqresult2 = shaqlogit2.fit()\n",
        "print(shaqresult2.summary())"
      ],
      "execution_count": 0,
      "outputs": [
        {
          "output_type": "stream",
          "text": [
            "Optimization terminated successfully.\n",
            "         Current function value: 0.481998\n",
            "         Iterations 6\n",
            "                           Logit Regression Results                           \n",
            "==============================================================================\n",
            "Dep. Variable:                 Result   No. Observations:                  278\n",
            "Model:                          Logit   Df Residuals:                      270\n",
            "Method:                           MLE   Df Model:                            7\n",
            "Date:                Thu, 05 Dec 2019   Pseudo R-squ.:                  0.1137\n",
            "Time:                        04:40:21   Log-Likelihood:                -134.00\n",
            "converged:                       True   LL-Null:                       -151.19\n",
            "Covariance Type:            nonrobust   LLR p-value:                 1.458e-05\n",
            "==============================================================================\n",
            "                 coef    std err          z      P>|z|      [0.025      0.975]\n",
            "------------------------------------------------------------------------------\n",
            "FG%            1.1361      1.238      0.918      0.359      -1.290       3.562\n",
            "FT%            2.0450      0.826      2.475      0.013       0.426       3.664\n",
            "TRB            0.0090      0.038      0.236      0.813      -0.066       0.084\n",
            "AST           -0.0290      0.082     -0.352      0.725      -0.191       0.132\n",
            "BLK            0.0845      0.090      0.936      0.349      -0.092       0.261\n",
            "TOV            0.0568      0.121      0.470      0.639      -0.180       0.294\n",
            "PTS           -0.1992      0.055     -3.612      0.000      -0.307      -0.091\n",
            "GmSc           0.2153      0.066      3.276      0.001       0.086       0.344\n",
            "==============================================================================\n"
          ],
          "name": "stdout"
        }
      ]
    },
    {
      "cell_type": "markdown",
      "metadata": {
        "id": "aeCjMyABU6Lv",
        "colab_type": "text"
      },
      "source": [
        "Very interesting, the output shows that Shaq's free throw has a significant relationship with the game result. However, the relationship between total rebound or field goal percentage and result is not significant. The variables stay are 'FT%', 'PTS', 'GmSc'."
      ]
    },
    {
      "cell_type": "code",
      "metadata": {
        "id": "uNdhmC7UWCAh",
        "colab_type": "code",
        "cellView": "form",
        "outputId": "c97c312d-816c-4e62-ec33-7f927864711a",
        "colab": {
          "base_uri": "https://localhost:8080/",
          "height": 204
        }
      },
      "source": [
        "#@title Clean Data\n",
        "shaq3 = shaq2\n",
        "shaq3.drop('FG%', axis = 1, inplace = True)\n",
        "shaq3.drop('TRB', axis = 1, inplace = True)\n",
        "shaq3.drop('AST', axis = 1, inplace = True)\n",
        "shaq3.drop('BLK', axis = 1, inplace = True)\n",
        "shaq3.drop('TOV', axis = 1, inplace = True)\n",
        "shaq3.head()"
      ],
      "execution_count": 0,
      "outputs": [
        {
          "output_type": "execute_result",
          "data": {
            "text/html": [
              "<div>\n",
              "<style scoped>\n",
              "    .dataframe tbody tr th:only-of-type {\n",
              "        vertical-align: middle;\n",
              "    }\n",
              "\n",
              "    .dataframe tbody tr th {\n",
              "        vertical-align: top;\n",
              "    }\n",
              "\n",
              "    .dataframe thead th {\n",
              "        text-align: right;\n",
              "    }\n",
              "</style>\n",
              "<table border=\"1\" class=\"dataframe\">\n",
              "  <thead>\n",
              "    <tr style=\"text-align: right;\">\n",
              "      <th></th>\n",
              "      <th>Result</th>\n",
              "      <th>FT%</th>\n",
              "      <th>PTS</th>\n",
              "      <th>GmSc</th>\n",
              "    </tr>\n",
              "  </thead>\n",
              "  <tbody>\n",
              "    <tr>\n",
              "      <th>0</th>\n",
              "      <td>1</td>\n",
              "      <td>0.455</td>\n",
              "      <td>23</td>\n",
              "      <td>15.6</td>\n",
              "    </tr>\n",
              "    <tr>\n",
              "      <th>1</th>\n",
              "      <td>1</td>\n",
              "      <td>0.333</td>\n",
              "      <td>28</td>\n",
              "      <td>23.5</td>\n",
              "    </tr>\n",
              "    <tr>\n",
              "      <th>2</th>\n",
              "      <td>0</td>\n",
              "      <td>0.273</td>\n",
              "      <td>21</td>\n",
              "      <td>15.6</td>\n",
              "    </tr>\n",
              "    <tr>\n",
              "      <th>3</th>\n",
              "      <td>1</td>\n",
              "      <td>0.435</td>\n",
              "      <td>30</td>\n",
              "      <td>25.4</td>\n",
              "    </tr>\n",
              "    <tr>\n",
              "      <th>4</th>\n",
              "      <td>1</td>\n",
              "      <td>0.214</td>\n",
              "      <td>27</td>\n",
              "      <td>15.3</td>\n",
              "    </tr>\n",
              "  </tbody>\n",
              "</table>\n",
              "</div>"
            ],
            "text/plain": [
              "   Result    FT%  PTS  GmSc\n",
              "0       1  0.455   23  15.6\n",
              "1       1  0.333   28  23.5\n",
              "2       0  0.273   21  15.6\n",
              "3       1  0.435   30  25.4\n",
              "4       1  0.214   27  15.3"
            ]
          },
          "metadata": {
            "tags": []
          },
          "execution_count": 321
        }
      ]
    },
    {
      "cell_type": "code",
      "metadata": {
        "id": "3AxR_ep9XEsF",
        "colab_type": "code",
        "cellView": "form",
        "outputId": "bc14e609-0569-4d8e-d307-2ef4914f746c",
        "colab": {
          "base_uri": "https://localhost:8080/",
          "height": 340
        }
      },
      "source": [
        "#@title Step 3\n",
        "shaq3_train_cols = shaq3.columns[1:]\n",
        "shaqlogit3 = sm.Logit(shaq3['Result'], shaq3[shaq3_train_cols])\n",
        "shaqresult3 = shaqlogit3.fit()\n",
        "print(shaqresult3.summary())"
      ],
      "execution_count": 0,
      "outputs": [
        {
          "output_type": "stream",
          "text": [
            "Optimization terminated successfully.\n",
            "         Current function value: 0.487315\n",
            "         Iterations 6\n",
            "                           Logit Regression Results                           \n",
            "==============================================================================\n",
            "Dep. Variable:                 Result   No. Observations:                  278\n",
            "Model:                          Logit   Df Residuals:                      275\n",
            "Method:                           MLE   Df Model:                            2\n",
            "Date:                Thu, 05 Dec 2019   Pseudo R-squ.:                  0.1039\n",
            "Time:                        04:41:04   Log-Likelihood:                -135.47\n",
            "converged:                       True   LL-Null:                       -151.19\n",
            "Covariance Type:            nonrobust   LLR p-value:                 1.497e-07\n",
            "==============================================================================\n",
            "                 coef    std err          z      P>|z|      [0.025      0.975]\n",
            "------------------------------------------------------------------------------\n",
            "FT%            2.3846      0.776      3.073      0.002       0.864       3.905\n",
            "PTS           -0.1688      0.040     -4.205      0.000      -0.247      -0.090\n",
            "GmSc           0.2129      0.047      4.514      0.000       0.120       0.305\n",
            "==============================================================================\n"
          ],
          "name": "stdout"
        }
      ]
    },
    {
      "cell_type": "markdown",
      "metadata": {
        "id": "kxTpoFuRXtGQ",
        "colab_type": "text"
      },
      "source": [
        "# **Odd's Ratio**\n",
        "\n",
        "Now, it is time to see how significant these relationships are."
      ]
    },
    {
      "cell_type": "code",
      "metadata": {
        "id": "hz6rhR8aX_iU",
        "colab_type": "code",
        "cellView": "form",
        "outputId": "8007dbb6-10b8-4abe-8ab8-2975e035f1c6",
        "colab": {
          "base_uri": "https://localhost:8080/",
          "height": 85
        }
      },
      "source": [
        "#@title Kobe Bryant\n",
        "print(np.exp(koberesult3.params))"
      ],
      "execution_count": 0,
      "outputs": [
        {
          "output_type": "stream",
          "text": [
            "FG%     128.253496\n",
            "PTS       0.799485\n",
            "GmSc      1.302788\n",
            "dtype: float64\n"
          ],
          "name": "stdout"
        }
      ]
    },
    {
      "cell_type": "code",
      "metadata": {
        "id": "tCLv0UmFYXGb",
        "colab_type": "code",
        "cellView": "form",
        "outputId": "f46fdc01-84ec-4ec0-9223-b26d6f1db1b5",
        "colab": {
          "base_uri": "https://localhost:8080/",
          "height": 85
        }
      },
      "source": [
        "#@title Shaquille O'Neal\n",
        "print(np.exp(shaqresult3.params))"
      ],
      "execution_count": 0,
      "outputs": [
        {
          "output_type": "stream",
          "text": [
            "FT%     10.854245\n",
            "PTS      0.844687\n",
            "GmSc     1.237281\n",
            "dtype: float64\n"
          ],
          "name": "stdout"
        }
      ]
    },
    {
      "cell_type": "markdown",
      "metadata": {
        "id": "Wpn5Kl16bRIK",
        "colab_type": "text"
      },
      "source": [
        "# **Result**\n",
        "\n",
        "Odd's ratio formula:\n",
        "\n",
        "odds ratioo = odds(win/variable + 1unit)/odds(win/variable)\n",
        "\n",
        "It is very intersting to see the outcomes. Both players' odds ratio on PTS shows that every more points they got will decrease the team's odds of winning. For Kobe, if he get 1 point less, LA Lakers odds of winning will increase 1.26 times. For Shaq, if he get 1 point less, LA Lakers odds of winning will increase 1.19 times. \n",
        "\n",
        "For their unique variables, FT% and FG%, since these two are between 0-1, odds ratio cannot really tell something but it can be known that if Kobe's FG% and Shaq's FT% increase, the odds of Lakers winning the game will increase. \n",
        "\n",
        "Finally, from the variable for overall performance, Game Score, we can tell whose contribution is more. If Kobe Bryant's Game Score increase by 1 unit, Lakers odds of winning a game will increase 1.30 times. If Shaquille O'Neal's Game Score increase by 1 unit, Lakers odds of winning a game will increase 1.23 times. Kobe contribute slightly more than Shaq. \n",
        "\n",
        "In conclusion, this project proves that many people's arguments are untenable. At least Shaq did not carry Kobe to get three consecutive NBA titles. They both carry LA Lakers and Kobe even did more. "
      ]
    }
  ]
}