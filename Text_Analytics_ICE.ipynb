{
  "nbformat": 4,
  "nbformat_minor": 0,
  "metadata": {
    "colab": {
      "name": "Text Analytics ICE",
      "provenance": [],
      "toc_visible": true,
      "include_colab_link": true
    },
    "kernelspec": {
      "name": "python3",
      "display_name": "Python 3"
    }
  },
  "cells": [
    {
      "cell_type": "markdown",
      "metadata": {
        "id": "view-in-github",
        "colab_type": "text"
      },
      "source": [
        "<a href=\"https://colab.research.google.com/github/Shiwei-Chen/ISTM-660/blob/master/Text_Analytics_ICE.ipynb\" target=\"_parent\"><img src=\"https://colab.research.google.com/assets/colab-badge.svg\" alt=\"Open In Colab\"/></a>"
      ]
    },
    {
      "cell_type": "markdown",
      "metadata": {
        "id": "JkWOWz-9MSo_",
        "colab_type": "text"
      },
      "source": [
        "# **Introduction**\n",
        "\n",
        "This project outlines a text-mining classification model using bag-of-words and logistic regression. The project is trying to understand the relationship between ratings and text reviews of a Women’s Clothing E-Commerce. \n",
        "\n",
        "Data Source:https://www.kaggle.com/nicapotato/womens-ecommerce-clothing-reviews\n"
      ]
    },
    {
      "cell_type": "markdown",
      "metadata": {
        "id": "Kq4tiHe2OBui",
        "colab_type": "text"
      },
      "source": [
        "- Preliminary Analysis\n",
        "- Formatting / Converting Text\n",
        "- Logistic Regression\n",
        "- Testing / Conclusions"
      ]
    },
    {
      "cell_type": "code",
      "metadata": {
        "id": "rYV6iUetOKfm",
        "colab_type": "code",
        "colab": {}
      },
      "source": [
        "#Import data\n",
        "import pandas as pd\n",
        "import numpy as np\n",
        "import seaborn as sns\n",
        "%matplotlib inline\n",
        "import matplotlib.pyplot as plt\n",
        "import random"
      ],
      "execution_count": 0,
      "outputs": []
    },
    {
      "cell_type": "code",
      "metadata": {
        "id": "1vKPCiRsOPnw",
        "colab_type": "code",
        "outputId": "c9c8eed5-b609-4f66-a1e0-e33fd7dc7d77",
        "colab": {
          "base_uri": "https://localhost:8080/",
          "height": 442
        }
      },
      "source": [
        "url = 'https://raw.githubusercontent.com/Shiwei-Chen/ISTM-660/master/Womens%20Clothing%20E-Commerce%20Reviews.csv'\n",
        "\n",
        "df = pd.read_csv(url)\n",
        "df.head()"
      ],
      "execution_count": 0,
      "outputs": [
        {
          "output_type": "execute_result",
          "data": {
            "text/html": [
              "<div>\n",
              "<style scoped>\n",
              "    .dataframe tbody tr th:only-of-type {\n",
              "        vertical-align: middle;\n",
              "    }\n",
              "\n",
              "    .dataframe tbody tr th {\n",
              "        vertical-align: top;\n",
              "    }\n",
              "\n",
              "    .dataframe thead th {\n",
              "        text-align: right;\n",
              "    }\n",
              "</style>\n",
              "<table border=\"1\" class=\"dataframe\">\n",
              "  <thead>\n",
              "    <tr style=\"text-align: right;\">\n",
              "      <th></th>\n",
              "      <th>Unnamed: 0</th>\n",
              "      <th>Clothing ID</th>\n",
              "      <th>Age</th>\n",
              "      <th>Title</th>\n",
              "      <th>Review Text</th>\n",
              "      <th>Rating</th>\n",
              "      <th>Recommended IND</th>\n",
              "      <th>Positive Feedback Count</th>\n",
              "      <th>Division Name</th>\n",
              "      <th>Department Name</th>\n",
              "      <th>Class Name</th>\n",
              "    </tr>\n",
              "  </thead>\n",
              "  <tbody>\n",
              "    <tr>\n",
              "      <th>0</th>\n",
              "      <td>0</td>\n",
              "      <td>767</td>\n",
              "      <td>33</td>\n",
              "      <td>NaN</td>\n",
              "      <td>Absolutely wonderful - silky and sexy and comf...</td>\n",
              "      <td>4</td>\n",
              "      <td>1</td>\n",
              "      <td>0</td>\n",
              "      <td>Initmates</td>\n",
              "      <td>Intimate</td>\n",
              "      <td>Intimates</td>\n",
              "    </tr>\n",
              "    <tr>\n",
              "      <th>1</th>\n",
              "      <td>1</td>\n",
              "      <td>1080</td>\n",
              "      <td>34</td>\n",
              "      <td>NaN</td>\n",
              "      <td>Love this dress!  it's sooo pretty.  i happene...</td>\n",
              "      <td>5</td>\n",
              "      <td>1</td>\n",
              "      <td>4</td>\n",
              "      <td>General</td>\n",
              "      <td>Dresses</td>\n",
              "      <td>Dresses</td>\n",
              "    </tr>\n",
              "    <tr>\n",
              "      <th>2</th>\n",
              "      <td>2</td>\n",
              "      <td>1077</td>\n",
              "      <td>60</td>\n",
              "      <td>Some major design flaws</td>\n",
              "      <td>I had such high hopes for this dress and reall...</td>\n",
              "      <td>3</td>\n",
              "      <td>0</td>\n",
              "      <td>0</td>\n",
              "      <td>General</td>\n",
              "      <td>Dresses</td>\n",
              "      <td>Dresses</td>\n",
              "    </tr>\n",
              "    <tr>\n",
              "      <th>3</th>\n",
              "      <td>3</td>\n",
              "      <td>1049</td>\n",
              "      <td>50</td>\n",
              "      <td>My favorite buy!</td>\n",
              "      <td>I love, love, love this jumpsuit. it's fun, fl...</td>\n",
              "      <td>5</td>\n",
              "      <td>1</td>\n",
              "      <td>0</td>\n",
              "      <td>General Petite</td>\n",
              "      <td>Bottoms</td>\n",
              "      <td>Pants</td>\n",
              "    </tr>\n",
              "    <tr>\n",
              "      <th>4</th>\n",
              "      <td>4</td>\n",
              "      <td>847</td>\n",
              "      <td>47</td>\n",
              "      <td>Flattering shirt</td>\n",
              "      <td>This shirt is very flattering to all due to th...</td>\n",
              "      <td>5</td>\n",
              "      <td>1</td>\n",
              "      <td>6</td>\n",
              "      <td>General</td>\n",
              "      <td>Tops</td>\n",
              "      <td>Blouses</td>\n",
              "    </tr>\n",
              "  </tbody>\n",
              "</table>\n",
              "</div>"
            ],
            "text/plain": [
              "   Unnamed: 0  Clothing ID  Age  ...   Division Name Department Name  Class Name\n",
              "0           0          767   33  ...       Initmates        Intimate   Intimates\n",
              "1           1         1080   34  ...         General         Dresses     Dresses\n",
              "2           2         1077   60  ...         General         Dresses     Dresses\n",
              "3           3         1049   50  ...  General Petite         Bottoms       Pants\n",
              "4           4          847   47  ...         General            Tops     Blouses\n",
              "\n",
              "[5 rows x 11 columns]"
            ]
          },
          "metadata": {
            "tags": []
          },
          "execution_count": 4
        }
      ]
    },
    {
      "cell_type": "code",
      "metadata": {
        "id": "tyM1gAfGPDIv",
        "colab_type": "code",
        "outputId": "6c89e9a1-554f-472b-cc61-86147e727b8c",
        "colab": {
          "base_uri": "https://localhost:8080/",
          "height": 204
        }
      },
      "source": [
        "#Choose useful data\n",
        "df2 = df[['Review Text', 'Rating']]\n",
        "df = df2\n",
        "df.head()"
      ],
      "execution_count": 0,
      "outputs": [
        {
          "output_type": "execute_result",
          "data": {
            "text/html": [
              "<div>\n",
              "<style scoped>\n",
              "    .dataframe tbody tr th:only-of-type {\n",
              "        vertical-align: middle;\n",
              "    }\n",
              "\n",
              "    .dataframe tbody tr th {\n",
              "        vertical-align: top;\n",
              "    }\n",
              "\n",
              "    .dataframe thead th {\n",
              "        text-align: right;\n",
              "    }\n",
              "</style>\n",
              "<table border=\"1\" class=\"dataframe\">\n",
              "  <thead>\n",
              "    <tr style=\"text-align: right;\">\n",
              "      <th></th>\n",
              "      <th>Review Text</th>\n",
              "      <th>Rating</th>\n",
              "    </tr>\n",
              "  </thead>\n",
              "  <tbody>\n",
              "    <tr>\n",
              "      <th>0</th>\n",
              "      <td>Absolutely wonderful - silky and sexy and comf...</td>\n",
              "      <td>4</td>\n",
              "    </tr>\n",
              "    <tr>\n",
              "      <th>1</th>\n",
              "      <td>Love this dress!  it's sooo pretty.  i happene...</td>\n",
              "      <td>5</td>\n",
              "    </tr>\n",
              "    <tr>\n",
              "      <th>2</th>\n",
              "      <td>I had such high hopes for this dress and reall...</td>\n",
              "      <td>3</td>\n",
              "    </tr>\n",
              "    <tr>\n",
              "      <th>3</th>\n",
              "      <td>I love, love, love this jumpsuit. it's fun, fl...</td>\n",
              "      <td>5</td>\n",
              "    </tr>\n",
              "    <tr>\n",
              "      <th>4</th>\n",
              "      <td>This shirt is very flattering to all due to th...</td>\n",
              "      <td>5</td>\n",
              "    </tr>\n",
              "  </tbody>\n",
              "</table>\n",
              "</div>"
            ],
            "text/plain": [
              "                                         Review Text  Rating\n",
              "0  Absolutely wonderful - silky and sexy and comf...       4\n",
              "1  Love this dress!  it's sooo pretty.  i happene...       5\n",
              "2  I had such high hopes for this dress and reall...       3\n",
              "3  I love, love, love this jumpsuit. it's fun, fl...       5\n",
              "4  This shirt is very flattering to all due to th...       5"
            ]
          },
          "metadata": {
            "tags": []
          },
          "execution_count": 5
        }
      ]
    },
    {
      "cell_type": "markdown",
      "metadata": {
        "id": "ZgH4ES4uPu0g",
        "colab_type": "text"
      },
      "source": [
        "Since this project will explore the relationship between text reviews and ratings, only two columns will be kept to be used for exploration."
      ]
    },
    {
      "cell_type": "markdown",
      "metadata": {
        "id": "gVE77aVTUdQ8",
        "colab_type": "text"
      },
      "source": [
        "**Null Check**"
      ]
    },
    {
      "cell_type": "code",
      "metadata": {
        "id": "4TmEHjW3UjIg",
        "colab_type": "code",
        "outputId": "eb526458-919d-483d-d2c2-1de21d208f84",
        "colab": {
          "base_uri": "https://localhost:8080/",
          "height": 68
        }
      },
      "source": [
        "null_count = df.isnull().sum()\n",
        "null_count"
      ],
      "execution_count": 0,
      "outputs": [
        {
          "output_type": "execute_result",
          "data": {
            "text/plain": [
              "Review Text    845\n",
              "Rating           0\n",
              "dtype: int64"
            ]
          },
          "metadata": {
            "tags": []
          },
          "execution_count": 6
        }
      ]
    },
    {
      "cell_type": "markdown",
      "metadata": {
        "id": "uQkyxvOVVKYi",
        "colab_type": "text"
      },
      "source": [
        "There are 845 nulls in Review Text column, and these should be removed. "
      ]
    },
    {
      "cell_type": "code",
      "metadata": {
        "id": "YmBwA8vOYbcS",
        "colab_type": "code",
        "outputId": "e58854ef-b37c-46f5-f6fe-b8c436bd896d",
        "colab": {
          "base_uri": "https://localhost:8080/",
          "height": 68
        }
      },
      "source": [
        "df2 = df.dropna()\n",
        "null_count = df2.isnull().sum()\n",
        "null_count"
      ],
      "execution_count": 0,
      "outputs": [
        {
          "output_type": "execute_result",
          "data": {
            "text/plain": [
              "Review Text    0\n",
              "Rating         0\n",
              "dtype: int64"
            ]
          },
          "metadata": {
            "tags": []
          },
          "execution_count": 7
        }
      ]
    },
    {
      "cell_type": "markdown",
      "metadata": {
        "id": "INpzhu9_ZILr",
        "colab_type": "text"
      },
      "source": [
        "The nulls have been removed. "
      ]
    },
    {
      "cell_type": "code",
      "metadata": {
        "id": "YN3gMWo4Yx2g",
        "colab_type": "code",
        "outputId": "988141c5-f39c-4927-fd03-ba4713519b22",
        "colab": {
          "base_uri": "https://localhost:8080/",
          "height": 204
        }
      },
      "source": [
        "df = df2\n",
        "#Rename since there is a space in column name 'Review Text'\n",
        "re_name ={'Review Text':'review_text', 'Rating':'rating'}\n",
        "df.rename(columns=re_name, inplace = True)\n",
        "df.head()"
      ],
      "execution_count": 0,
      "outputs": [
        {
          "output_type": "execute_result",
          "data": {
            "text/html": [
              "<div>\n",
              "<style scoped>\n",
              "    .dataframe tbody tr th:only-of-type {\n",
              "        vertical-align: middle;\n",
              "    }\n",
              "\n",
              "    .dataframe tbody tr th {\n",
              "        vertical-align: top;\n",
              "    }\n",
              "\n",
              "    .dataframe thead th {\n",
              "        text-align: right;\n",
              "    }\n",
              "</style>\n",
              "<table border=\"1\" class=\"dataframe\">\n",
              "  <thead>\n",
              "    <tr style=\"text-align: right;\">\n",
              "      <th></th>\n",
              "      <th>review_text</th>\n",
              "      <th>rating</th>\n",
              "    </tr>\n",
              "  </thead>\n",
              "  <tbody>\n",
              "    <tr>\n",
              "      <th>0</th>\n",
              "      <td>Absolutely wonderful - silky and sexy and comf...</td>\n",
              "      <td>4</td>\n",
              "    </tr>\n",
              "    <tr>\n",
              "      <th>1</th>\n",
              "      <td>Love this dress!  it's sooo pretty.  i happene...</td>\n",
              "      <td>5</td>\n",
              "    </tr>\n",
              "    <tr>\n",
              "      <th>2</th>\n",
              "      <td>I had such high hopes for this dress and reall...</td>\n",
              "      <td>3</td>\n",
              "    </tr>\n",
              "    <tr>\n",
              "      <th>3</th>\n",
              "      <td>I love, love, love this jumpsuit. it's fun, fl...</td>\n",
              "      <td>5</td>\n",
              "    </tr>\n",
              "    <tr>\n",
              "      <th>4</th>\n",
              "      <td>This shirt is very flattering to all due to th...</td>\n",
              "      <td>5</td>\n",
              "    </tr>\n",
              "  </tbody>\n",
              "</table>\n",
              "</div>"
            ],
            "text/plain": [
              "                                         review_text  rating\n",
              "0  Absolutely wonderful - silky and sexy and comf...       4\n",
              "1  Love this dress!  it's sooo pretty.  i happene...       5\n",
              "2  I had such high hopes for this dress and reall...       3\n",
              "3  I love, love, love this jumpsuit. it's fun, fl...       5\n",
              "4  This shirt is very flattering to all due to th...       5"
            ]
          },
          "metadata": {
            "tags": []
          },
          "execution_count": 8
        }
      ]
    },
    {
      "cell_type": "markdown",
      "metadata": {
        "id": "5ZyfPOvASN3N",
        "colab_type": "text"
      },
      "source": [
        "# **Basic Statistics**"
      ]
    },
    {
      "cell_type": "code",
      "metadata": {
        "id": "E4kTohE6Zkpq",
        "colab_type": "code",
        "outputId": "1c51a7fc-5fa0-4f9c-b018-151a6c8bbc7e",
        "colab": {
          "base_uri": "https://localhost:8080/",
          "height": 297
        }
      },
      "source": [
        "df.describe()"
      ],
      "execution_count": 0,
      "outputs": [
        {
          "output_type": "execute_result",
          "data": {
            "text/html": [
              "<div>\n",
              "<style scoped>\n",
              "    .dataframe tbody tr th:only-of-type {\n",
              "        vertical-align: middle;\n",
              "    }\n",
              "\n",
              "    .dataframe tbody tr th {\n",
              "        vertical-align: top;\n",
              "    }\n",
              "\n",
              "    .dataframe thead th {\n",
              "        text-align: right;\n",
              "    }\n",
              "</style>\n",
              "<table border=\"1\" class=\"dataframe\">\n",
              "  <thead>\n",
              "    <tr style=\"text-align: right;\">\n",
              "      <th></th>\n",
              "      <th>rating</th>\n",
              "    </tr>\n",
              "  </thead>\n",
              "  <tbody>\n",
              "    <tr>\n",
              "      <th>count</th>\n",
              "      <td>22641.000000</td>\n",
              "    </tr>\n",
              "    <tr>\n",
              "      <th>mean</th>\n",
              "      <td>4.183561</td>\n",
              "    </tr>\n",
              "    <tr>\n",
              "      <th>std</th>\n",
              "      <td>1.115762</td>\n",
              "    </tr>\n",
              "    <tr>\n",
              "      <th>min</th>\n",
              "      <td>1.000000</td>\n",
              "    </tr>\n",
              "    <tr>\n",
              "      <th>25%</th>\n",
              "      <td>4.000000</td>\n",
              "    </tr>\n",
              "    <tr>\n",
              "      <th>50%</th>\n",
              "      <td>5.000000</td>\n",
              "    </tr>\n",
              "    <tr>\n",
              "      <th>75%</th>\n",
              "      <td>5.000000</td>\n",
              "    </tr>\n",
              "    <tr>\n",
              "      <th>max</th>\n",
              "      <td>5.000000</td>\n",
              "    </tr>\n",
              "  </tbody>\n",
              "</table>\n",
              "</div>"
            ],
            "text/plain": [
              "             rating\n",
              "count  22641.000000\n",
              "mean       4.183561\n",
              "std        1.115762\n",
              "min        1.000000\n",
              "25%        4.000000\n",
              "50%        5.000000\n",
              "75%        5.000000\n",
              "max        5.000000"
            ]
          },
          "metadata": {
            "tags": []
          },
          "execution_count": 9
        }
      ]
    },
    {
      "cell_type": "markdown",
      "metadata": {
        "id": "Ioo1LYtnSw7z",
        "colab_type": "text"
      },
      "source": [
        "It appears that this Women Clothing E-Commerce is doing a good job, because the mean is 4.183 and 75% mark is a 5 star review. This tells us there are a disproportionate amount of 5 star reviews. "
      ]
    },
    {
      "cell_type": "markdown",
      "metadata": {
        "id": "R0LLYIDOTnRV",
        "colab_type": "text"
      },
      "source": [
        "**Purpose of The Model**\n",
        "\n",
        "This project will build a model using the bag of words / logistic regression model: \n",
        "- To gauge the sentiment of future text reviews and categorize them into “Good” or “Bad” classes.\n",
        "- To pinpoint specific words with a high impact on rating sentiment. "
      ]
    },
    {
      "cell_type": "markdown",
      "metadata": {
        "id": "JMKE9-MbbaN7",
        "colab_type": "text"
      },
      "source": [
        "**Distribution**\n",
        "\n",
        "The visualization of the data's distribution. "
      ]
    },
    {
      "cell_type": "code",
      "metadata": {
        "id": "d81M7Bwebp30",
        "colab_type": "code",
        "outputId": "c3c1a60f-b3e4-4ecb-d05e-fc236cb7f50e",
        "colab": {
          "base_uri": "https://localhost:8080/",
          "height": 295
        }
      },
      "source": [
        "groups = df.groupby('rating').count()\n",
        "Values = groups.review_text\n",
        "colors = ['r', 'g', 'b', 'c', 'm']\n",
        "plt.bar(([1,2,3,4,5]), Values, color= colors)\n",
        "plt.title('Rating Distribution')\n",
        "plt.xlabel('Rating')\n",
        "plt.ylabel('Review Quantity')\n",
        "plt.show()"
      ],
      "execution_count": 0,
      "outputs": [
        {
          "output_type": "display_data",
          "data": {
            "image/png": "[encoded data removed]",
            "text/plain": [
              "<Figure size 432x288 with 1 Axes>"
            ]
          },
          "metadata": {
            "tags": []
          }
        }
      ]
    },
    {
      "cell_type": "markdown",
      "metadata": {
        "id": "QQDALAlRq2ct",
        "colab_type": "text"
      },
      "source": [
        "**Logidtic Regression**\n",
        "\n",
        "Logistic regression is a statistical model that in its basic form uses a logistic function to model a binary dependent variable. In this case, the binary dependent variable is 'good' or 'bad' reviews, with the effect of many other independent variables."
      ]
    },
    {
      "cell_type": "markdown",
      "metadata": {
        "id": "wMlTJXgDr0l1",
        "colab_type": "text"
      },
      "source": [
        "**Sentiment Rule**\n",
        "\n",
        "In order to perform the logistic regression later,it is necessary to figure out a way to turn these 5 ratings categories into binary classes (1 and 0). Logistic regression only handles “either/or” target variables. The best way to turn the star ratings into binary classes is:\n",
        "\n",
        "- Set ratings below 3 stars as class 0 (negative sentiment)\n",
        "- Set ratings above 3 as class 1 (positive sentiment)\n",
        "- Delete the 3 star ratings. \n",
        "\n",
        "*3 stars are neutral and offer no sentiment insight."
      ]
    },
    {
      "cell_type": "code",
      "metadata": {
        "id": "0_8dStjwsKdn",
        "colab_type": "code",
        "outputId": "95184914-019f-409c-cb5e-0803b7d46920",
        "colab": {
          "base_uri": "https://localhost:8080/",
          "height": 295
        }
      },
      "source": [
        "#dropping 3 \n",
        "df = df[df.rating != 3]\n",
        "groups = df.groupby('rating').count()\n",
        "Values = groups.review_text\n",
        "colors = ['r', 'g', 'b', 'c']\n",
        "plt.bar(([1,2,4,5]), Values, color= colors) #do not put 3 in []\n",
        "plt.title('Rating Distribution')\n",
        "plt.xlabel('Rating')\n",
        "plt.ylabel('Review Quantity')\n",
        "plt.show()"
      ],
      "execution_count": 0,
      "outputs": [
        {
          "output_type": "display_data",
          "data": {
            "image/png": "[encoded data removed]",
            "text/plain": [
              "<Figure size 432x288 with 1 Axes>"
            ]
          },
          "metadata": {
            "tags": []
          }
        }
      ]
    },
    {
      "cell_type": "code",
      "metadata": {
        "id": "9yKzGGKVthlT",
        "colab_type": "code",
        "outputId": "656cf1a7-083f-4556-9e34-a59faed45bd1",
        "colab": {
          "base_uri": "https://localhost:8080/",
          "height": 541
        }
      },
      "source": [
        "#Creating binary class column\n",
        "df['binary_class'] = np.where(df['rating'] > 3, 1, 0)\n",
        "df"
      ],
      "execution_count": 0,
      "outputs": [
        {
          "output_type": "stream",
          "text": [
            "/usr/local/lib/python3.6/dist-packages/ipykernel_launcher.py:1: SettingWithCopyWarning: \n",
            "A value is trying to be set on a copy of a slice from a DataFrame.\n",
            "Try using .loc[row_indexer,col_indexer] = value instead\n",
            "\n",
            "See the caveats in the documentation: http://pandas.pydata.org/pandas-docs/stable/user_guide/indexing.html#returning-a-view-versus-a-copy\n",
            "  \"\"\"Entry point for launching an IPython kernel.\n"
          ],
          "name": "stderr"
        },
        {
          "output_type": "execute_result",
          "data": {
            "text/html": [
              "<div>\n",
              "<style scoped>\n",
              "    .dataframe tbody tr th:only-of-type {\n",
              "        vertical-align: middle;\n",
              "    }\n",
              "\n",
              "    .dataframe tbody tr th {\n",
              "        vertical-align: top;\n",
              "    }\n",
              "\n",
              "    .dataframe thead th {\n",
              "        text-align: right;\n",
              "    }\n",
              "</style>\n",
              "<table border=\"1\" class=\"dataframe\">\n",
              "  <thead>\n",
              "    <tr style=\"text-align: right;\">\n",
              "      <th></th>\n",
              "      <th>review_text</th>\n",
              "      <th>rating</th>\n",
              "      <th>binary_class</th>\n",
              "    </tr>\n",
              "  </thead>\n",
              "  <tbody>\n",
              "    <tr>\n",
              "      <th>0</th>\n",
              "      <td>Absolutely wonderful - silky and sexy and comf...</td>\n",
              "      <td>4</td>\n",
              "      <td>1</td>\n",
              "    </tr>\n",
              "    <tr>\n",
              "      <th>1</th>\n",
              "      <td>Love this dress!  it's sooo pretty.  i happene...</td>\n",
              "      <td>5</td>\n",
              "      <td>1</td>\n",
              "    </tr>\n",
              "    <tr>\n",
              "      <th>3</th>\n",
              "      <td>I love, love, love this jumpsuit. it's fun, fl...</td>\n",
              "      <td>5</td>\n",
              "      <td>1</td>\n",
              "    </tr>\n",
              "    <tr>\n",
              "      <th>4</th>\n",
              "      <td>This shirt is very flattering to all due to th...</td>\n",
              "      <td>5</td>\n",
              "      <td>1</td>\n",
              "    </tr>\n",
              "    <tr>\n",
              "      <th>5</th>\n",
              "      <td>I love tracy reese dresses, but this one is no...</td>\n",
              "      <td>2</td>\n",
              "      <td>0</td>\n",
              "    </tr>\n",
              "    <tr>\n",
              "      <th>...</th>\n",
              "      <td>...</td>\n",
              "      <td>...</td>\n",
              "      <td>...</td>\n",
              "    </tr>\n",
              "    <tr>\n",
              "      <th>23477</th>\n",
              "      <td>I'm so impressed with the beautiful color comb...</td>\n",
              "      <td>4</td>\n",
              "      <td>1</td>\n",
              "    </tr>\n",
              "    <tr>\n",
              "      <th>23478</th>\n",
              "      <td>I was surprised at the positive reviews for th...</td>\n",
              "      <td>1</td>\n",
              "      <td>0</td>\n",
              "    </tr>\n",
              "    <tr>\n",
              "      <th>23479</th>\n",
              "      <td>So i wasn't sure about ordering this skirt bec...</td>\n",
              "      <td>5</td>\n",
              "      <td>1</td>\n",
              "    </tr>\n",
              "    <tr>\n",
              "      <th>23481</th>\n",
              "      <td>I was very happy to snag this dress at such a ...</td>\n",
              "      <td>5</td>\n",
              "      <td>1</td>\n",
              "    </tr>\n",
              "    <tr>\n",
              "      <th>23485</th>\n",
              "      <td>This dress in a lovely platinum is feminine an...</td>\n",
              "      <td>5</td>\n",
              "      <td>1</td>\n",
              "    </tr>\n",
              "  </tbody>\n",
              "</table>\n",
              "<p>19818 rows × 3 columns</p>\n",
              "</div>"
            ],
            "text/plain": [
              "                                             review_text  rating  binary_class\n",
              "0      Absolutely wonderful - silky and sexy and comf...       4             1\n",
              "1      Love this dress!  it's sooo pretty.  i happene...       5             1\n",
              "3      I love, love, love this jumpsuit. it's fun, fl...       5             1\n",
              "4      This shirt is very flattering to all due to th...       5             1\n",
              "5      I love tracy reese dresses, but this one is no...       2             0\n",
              "...                                                  ...     ...           ...\n",
              "23477  I'm so impressed with the beautiful color comb...       4             1\n",
              "23478  I was surprised at the positive reviews for th...       1             0\n",
              "23479  So i wasn't sure about ordering this skirt bec...       5             1\n",
              "23481  I was very happy to snag this dress at such a ...       5             1\n",
              "23485  This dress in a lovely platinum is feminine an...       5             1\n",
              "\n",
              "[19818 rows x 3 columns]"
            ]
          },
          "metadata": {
            "tags": []
          },
          "execution_count": 12
        }
      ]
    },
    {
      "cell_type": "markdown",
      "metadata": {
        "id": "PY9BiWiEv_xh",
        "colab_type": "text"
      },
      "source": [
        "# **Formatting/Converting Text**\n",
        "\n",
        "**Train/Test Split**\n",
        "\n",
        "The first step in this process is separating our data into training and testing sets. We will create our model from the training data and save some instances for testing purposes later. We’re using sklearn to shuffle and split. Without messing with the parameters, it should split our data into 75% training and 25% testing.\n",
        "\n",
        "By calling X_train.shape, we can check this. Further, let’s print a random review to verify it worked and to remind ourselves what we’re working with."
      ]
    },
    {
      "cell_type": "code",
      "metadata": {
        "id": "LGNMnLVB5LYD",
        "colab_type": "code",
        "outputId": "2621984f-8f65-4496-e3eb-7d5bf99fecd0",
        "colab": {
          "base_uri": "https://localhost:8080/",
          "height": 122
        }
      },
      "source": [
        "from sklearn.model_selection import train_test_split\n",
        "X_train, X_test, y_train, y_test = train_test_split(df['review_text'], df['binary_class'], random_state = 0)\n",
        "number = random.randint(1,1000)\n",
        "print ('Random Review:')\n",
        "print(' ')\n",
        "print(X_train[number])\n",
        "print(' ')\n",
        "print('X_train shape: ' + str(X_train.shape))"
      ],
      "execution_count": 0,
      "outputs": [
        {
          "output_type": "stream",
          "text": [
            "Random Review:\n",
            " \n",
            "Like the other reviewer said this top is extremely wide and boxy. it must be pinned in the picture online. it's very frustrating when they do that. thank goodness i didn't pay for shipping! for reference, i'm 5'2 and 135 pounds and bought the xxs, it's going back for sure. i'm trying to lose baby weight, not trying to look pregnant!\n",
            " \n",
            "X_train shape: (14863,)\n"
          ],
          "name": "stdout"
        }
      ]
    },
    {
      "cell_type": "markdown",
      "metadata": {
        "id": "U7XMUOOv5cz-",
        "colab_type": "text"
      },
      "source": [
        "**Turning words into numbers**\n",
        "\n",
        "Now comes the exciting part, translating our text data into numerical features. In order to run a regression though this data later, we need to have a feature for every word in our sample. Essentially, we will be translating each word to be assigned as a number and then counting the frequency of these word/numbers used per instance in matrices. The process of doing this is called “Bag-of-words”. It’s important to note that the order of words doesn’t matter, bag-of-words only counts the frequency per instance of words used. To start, we will use the Sklearn CountVectorizer"
      ]
    },
    {
      "cell_type": "code",
      "metadata": {
        "id": "gBmS74mS5eyJ",
        "colab_type": "code",
        "outputId": "07d632e8-8918-480b-cf9c-f4c4af2112ff",
        "colab": {
          "base_uri": "https://localhost:8080/",
          "height": 34
        }
      },
      "source": [
        "from sklearn.feature_extraction.text import CountVectorizer\n",
        "vect = CountVectorizer().fit(X_train)\n",
        "vect.get_feature_names()[1:10]"
      ],
      "execution_count": 0,
      "outputs": [
        {
          "output_type": "execute_result",
          "data": {
            "text/plain": [
              "['000', '00p', '02', '03', '03dd', '0in', '0p', '0petite', '0r']"
            ]
          },
          "metadata": {
            "tags": []
          },
          "execution_count": 14
        }
      ]
    },
    {
      "cell_type": "markdown",
      "metadata": {
        "id": "0QcMC1_355v8",
        "colab_type": "text"
      },
      "source": [
        "We can see using the len(vect.get_feature_names()) method, there are a total of 11915 words in all the reviews:"
      ]
    },
    {
      "cell_type": "code",
      "metadata": {
        "id": "Jj7ODyu95z8S",
        "colab_type": "code",
        "outputId": "04f41db4-179f-48f9-8821-22227ddf9669",
        "colab": {
          "base_uri": "https://localhost:8080/",
          "height": 34
        }
      },
      "source": [
        "len(vect.get_feature_names())"
      ],
      "execution_count": 0,
      "outputs": [
        {
          "output_type": "execute_result",
          "data": {
            "text/plain": [
              "11915"
            ]
          },
          "metadata": {
            "tags": []
          },
          "execution_count": 15
        }
      ]
    },
    {
      "cell_type": "markdown",
      "metadata": {
        "id": "V4RncFxR6Av4",
        "colab_type": "text"
      },
      "source": [
        "Now, let’s transform our X_train data into a matrix which contains the documents (instances) as rows and the count of new features (11,915) as columns. "
      ]
    },
    {
      "cell_type": "code",
      "metadata": {
        "id": "HPYt1B-w6Bd1",
        "colab_type": "code",
        "outputId": "04c9dfb1-6570-4ae0-b578-178ea57bd7c9",
        "colab": {
          "base_uri": "https://localhost:8080/",
          "height": 136
        }
      },
      "source": [
        "X_train_vectorized = vect.transform(X_train)\n",
        "print (X_train_vectorized.toarray())"
      ],
      "execution_count": 0,
      "outputs": [
        {
          "output_type": "stream",
          "text": [
            "[[0 0 0 ... 0 0 0]\n",
            " [0 0 0 ... 0 0 0]\n",
            " [0 0 0 ... 0 0 0]\n",
            " ...\n",
            " [0 0 0 ... 0 0 0]\n",
            " [0 0 0 ... 0 0 0]\n",
            " [0 0 0 ... 0 0 0]]\n"
          ],
          "name": "stdout"
        }
      ]
    },
    {
      "cell_type": "markdown",
      "metadata": {
        "id": "y7kHGLkRPnzT",
        "colab_type": "text"
      },
      "source": [
        "**Logidtic Regression**\n",
        "\n",
        "**Building Model**"
      ]
    },
    {
      "cell_type": "code",
      "metadata": {
        "id": "cTmSgT0BP0HQ",
        "colab_type": "code",
        "outputId": "abf6ba62-8a9c-4bab-f0c6-c175162a4261",
        "colab": {
          "base_uri": "https://localhost:8080/",
          "height": 156
        }
      },
      "source": [
        "from sklearn.linear_model import LogisticRegression\n",
        "model = LogisticRegression()\n",
        "model.fit(X_train_vectorized, y_train)"
      ],
      "execution_count": 0,
      "outputs": [
        {
          "output_type": "stream",
          "text": [
            "/usr/local/lib/python3.6/dist-packages/sklearn/linear_model/logistic.py:432: FutureWarning: Default solver will be changed to 'lbfgs' in 0.22. Specify a solver to silence this warning.\n",
            "  FutureWarning)\n"
          ],
          "name": "stderr"
        },
        {
          "output_type": "execute_result",
          "data": {
            "text/plain": [
              "LogisticRegression(C=1.0, class_weight=None, dual=False, fit_intercept=True,\n",
              "                   intercept_scaling=1, l1_ratio=None, max_iter=100,\n",
              "                   multi_class='warn', n_jobs=None, penalty='l2',\n",
              "                   random_state=None, solver='warn', tol=0.0001, verbose=0,\n",
              "                   warm_start=False)"
            ]
          },
          "metadata": {
            "tags": []
          },
          "execution_count": 17
        }
      ]
    },
    {
      "cell_type": "markdown",
      "metadata": {
        "id": "ogXMYURARSxi",
        "colab_type": "text"
      },
      "source": [
        "**Calculating AUC**\n",
        "\n",
        "AUC (Area Under The Curve) ROC (Receiver Operating Characteristics):\n",
        "\n",
        "AUC - ROC curve is a performance measurement for classification problem at various thresholds settings. ROC is a probability curve and AUC represents degree or measure of separability. It tells how much model is capable of distinguishing between classes. Higher the AUC, better the model is at predicting 0s as 0s and 1s as 1s. "
      ]
    },
    {
      "cell_type": "code",
      "metadata": {
        "id": "oiArTmh9SoYG",
        "colab_type": "code",
        "outputId": "bef1f85f-f616-43eb-9976-a1725520c618",
        "colab": {
          "base_uri": "https://localhost:8080/",
          "height": 34
        }
      },
      "source": [
        "from sklearn.metrics import roc_auc_score\n",
        "predictions = model.predict(vect.transform(X_test))\n",
        "print('AUC: ', roc_auc_score(y_test, predictions))"
      ],
      "execution_count": 0,
      "outputs": [
        {
          "output_type": "stream",
          "text": [
            "AUC:  0.7877379406877907\n"
          ],
          "name": "stdout"
        }
      ]
    },
    {
      "cell_type": "markdown",
      "metadata": {
        "id": "1Yr7g9LPSzxk",
        "colab_type": "text"
      },
      "source": [
        "As shown above, this model is not bad.  There is 78.7% chance that model will be able to distinguish between positive class and negative class."
      ]
    },
    {
      "cell_type": "markdown",
      "metadata": {
        "id": "7PODg9a1TOXw",
        "colab_type": "text"
      },
      "source": [
        "**Testing / Conclusions**\n",
        "\n",
        "**Positive and Negative Words**\n",
        "\n",
        "By translating numbers back to words, getting the coefficients outputted by the regression, adding them both into a dataframe, and sorting them by their coefficient, it can be seen that which words have the highest effect on the classification. "
      ]
    },
    {
      "cell_type": "code",
      "metadata": {
        "id": "WNoMS85OUe1z",
        "colab_type": "code",
        "outputId": "7eca96f3-65fc-4301-8c35-5452b5f5c558",
        "colab": {
          "base_uri": "https://localhost:8080/",
          "height": 419
        }
      },
      "source": [
        "feature_names = np.array(vect.get_feature_names())\n",
        "coef_index = model.coef_[0]\n",
        "df = pd.DataFrame({'Word':feature_names, 'Coef': coef_index})\n",
        "df.sort_values('Coef')"
      ],
      "execution_count": 0,
      "outputs": [
        {
          "output_type": "execute_result",
          "data": {
            "text/html": [
              "<div>\n",
              "<style scoped>\n",
              "    .dataframe tbody tr th:only-of-type {\n",
              "        vertical-align: middle;\n",
              "    }\n",
              "\n",
              "    .dataframe tbody tr th {\n",
              "        vertical-align: top;\n",
              "    }\n",
              "\n",
              "    .dataframe thead th {\n",
              "        text-align: right;\n",
              "    }\n",
              "</style>\n",
              "<table border=\"1\" class=\"dataframe\">\n",
              "  <thead>\n",
              "    <tr style=\"text-align: right;\">\n",
              "      <th></th>\n",
              "      <th>Word</th>\n",
              "      <th>Coef</th>\n",
              "    </tr>\n",
              "  </thead>\n",
              "  <tbody>\n",
              "    <tr>\n",
              "      <th>9175</th>\n",
              "      <td>shame</td>\n",
              "      <td>-2.136811</td>\n",
              "    </tr>\n",
              "    <tr>\n",
              "      <th>11112</th>\n",
              "      <td>unflattering</td>\n",
              "      <td>-1.972138</td>\n",
              "    </tr>\n",
              "    <tr>\n",
              "      <th>1100</th>\n",
              "      <td>awful</td>\n",
              "      <td>-1.898291</td>\n",
              "    </tr>\n",
              "    <tr>\n",
              "      <th>1764</th>\n",
              "      <td>bummed</td>\n",
              "      <td>-1.879005</td>\n",
              "    </tr>\n",
              "    <tr>\n",
              "      <th>3234</th>\n",
              "      <td>disappointed</td>\n",
              "      <td>-1.841921</td>\n",
              "    </tr>\n",
              "    <tr>\n",
              "      <th>...</th>\n",
              "      <td>...</td>\n",
              "      <td>...</td>\n",
              "    </tr>\n",
              "    <tr>\n",
              "      <th>11134</th>\n",
              "      <td>unique</td>\n",
              "      <td>1.466173</td>\n",
              "    </tr>\n",
              "    <tr>\n",
              "      <th>7123</th>\n",
              "      <td>often</td>\n",
              "      <td>1.513968</td>\n",
              "    </tr>\n",
              "    <tr>\n",
              "      <th>10108</th>\n",
              "      <td>stunning</td>\n",
              "      <td>1.571636</td>\n",
              "    </tr>\n",
              "    <tr>\n",
              "      <th>5695</th>\n",
              "      <td>justice</td>\n",
              "      <td>1.648311</td>\n",
              "    </tr>\n",
              "    <tr>\n",
              "      <th>2469</th>\n",
              "      <td>compliments</td>\n",
              "      <td>1.715816</td>\n",
              "    </tr>\n",
              "  </tbody>\n",
              "</table>\n",
              "<p>11915 rows × 2 columns</p>\n",
              "</div>"
            ],
            "text/plain": [
              "               Word      Coef\n",
              "9175          shame -2.136811\n",
              "11112  unflattering -1.972138\n",
              "1100          awful -1.898291\n",
              "1764         bummed -1.879005\n",
              "3234   disappointed -1.841921\n",
              "...             ...       ...\n",
              "11134        unique  1.466173\n",
              "7123          often  1.513968\n",
              "10108      stunning  1.571636\n",
              "5695        justice  1.648311\n",
              "2469    compliments  1.715816\n",
              "\n",
              "[11915 rows x 2 columns]"
            ]
          },
          "metadata": {
            "tags": []
          },
          "execution_count": 19
        }
      ]
    },
    {
      "cell_type": "markdown",
      "metadata": {
        "id": "LTcjJZhWU4Ss",
        "colab_type": "text"
      },
      "source": [
        "**Negative Sentiment:**\n",
        "\n",
        "Somewhat the top negative word 'unflattering' can be related a clothing store, because unflattering dresses make people feel bad. Other neagetive words are more likely to describe people's mood after receiving unflattering dresses. \n",
        "\n",
        "**Positive Sentiment:**\n",
        "\n",
        "There is one interesting positive word 'justice'. Looking at some reviews including 'justice': \n",
        "- \"Like other reviewers noted, the pics don't do this skirt justice. it is truly beautiful with an intricate lace pattern and rich colors. can't wait to wear this to work!\"\n",
        "- \"This top is full of amazing details. the photos really don't do it justice. it is very flowy and does run large but is so pretty and soft and in beautiful shades of blue. i bought a small and it is fairly long in back on my 5'5\" frame but because of the detailing...it just works.\"\n",
        "\n",
        "Most of the positive reviews including word 'justice' is about the picture are not justice the product. "
      ]
    },
    {
      "cell_type": "markdown",
      "metadata": {
        "id": "c8A4G9kQYzws",
        "colab_type": "text"
      },
      "source": [
        "**Testing custom reviews**\n",
        "\n",
        "Lastly, we can experiment and test our own custom reviews. In bold below are the inputs and beneath that are the respective outputs (1 = positive; 0 = negative). That last one should easily be a positive, but our classifier labels it as negative. The rest seem accurate. \n",
        "\n",
        "To test this project, it is necessary to go to a women's clothing e-commerce on Amazon and find some reviews. "
      ]
    },
    {
      "cell_type": "code",
      "metadata": {
        "id": "ZjLidSARZPa7",
        "colab_type": "code",
        "outputId": "bde6e265-3e77-451d-fcb5-7bb31993d4da",
        "colab": {
          "base_uri": "https://localhost:8080/",
          "height": 187
        }
      },
      "source": [
        "print(model.predict(vect.transform(['It really is as cute as it looks in the picture!'])))#1\n",
        "print(model.predict(vect.transform([\"Gorgeous. Lots of compliments. She hasn't taken it off since she got it. Three days!\"])))#1\n",
        "print(model.predict(vect.transform(['The color was radiant'])))#1\n",
        "print(model.predict(vect.transform(['Cheap material, super small , it looks like a pajama for a girl.'])))#0\n",
        "print(model.predict(vect.transform(['Because the item is from Asia I ordered a much larger size; it is lovely but too big. I gave it to my sister.'])))#1\n",
        "print(model.predict(vect.transform(['This would be cuter as a cotton blend, great for a tunic top, not appropriate for a dress unless you are very short!'])))#0\n",
        "print(model.predict(vect.transform(['Super cute design but cheap fabric. Very small and too tight. I had to wear it as a (tight) tank top and I bought a large. I’m 5’3” 150lb 36” C'])))#0\n",
        "print(model.predict(vect.transform(['Love the look, the style of this dress, just perfect for me.'])))#1\n",
        "print(model.predict(vect.transform(['I immediately threw it down to mop the floor. A typical low grade product mass produced in China for a quick buck. I would give it a minus 5 rating if I could. I thought I could use the material for a project but it turned out to be unusable for anything but rags.'])))#0\n",
        "print(model.predict(vect.transform(['hate quality, found descriptipn misleading'])))#0\n",
        "#1110100100"
      ],
      "execution_count": 0,
      "outputs": [
        {
          "output_type": "stream",
          "text": [
            "[1]\n",
            "[1]\n",
            "[1]\n",
            "[0]\n",
            "[1]\n",
            "[1]\n",
            "[1]\n",
            "[1]\n",
            "[0]\n",
            "[1]\n"
          ],
          "name": "stdout"
        }
      ]
    },
    {
      "cell_type": "markdown",
      "metadata": {
        "id": "tifmTUR9bSj8",
        "colab_type": "text"
      },
      "source": [
        "As shown above, the test is 70% correct, and the model seems have a hard time recognizing 'bad' reviews. It is probably because of the average rating of the raw data is too high, and there are too few 'bad' reviews to train the model. Thus, more bad reviews needed to be imported for training, and this will make a better model."
      ]
    }
  ]
}